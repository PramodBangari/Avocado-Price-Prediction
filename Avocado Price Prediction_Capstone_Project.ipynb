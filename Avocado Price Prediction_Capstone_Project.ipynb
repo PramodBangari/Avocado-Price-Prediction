{
 "cells": [
  {
   "cell_type": "markdown",
   "id": "248295a0",
   "metadata": {},
   "source": [
    "## About this file\n",
    "\n",
    "### Some relevant columns in the dataset:\n",
    "\n",
    "#### Date - The date of the observation\n",
    "\n",
    "#### AveragePrice - the average price of a single avocado\n",
    "\n",
    "#### type - conventional or organic\n",
    "\n",
    "#### year - the year\n",
    "\n",
    "#### Region - the city or region of the observation\n",
    "\n",
    "#### Total Volume - Total number of avocados sold\n",
    "\n",
    "#### 4046 - Total number of avocados with PLU 4046 sold\n",
    "#### (PLU. The product/price lookup code (PLU) uniquely identifies a product (mainly produce). The Hass Avocado Board focuses on six different PLUs: 4046: non-organic small/medium Hass Avocados (~3-5 oz) 4225: non-organic large Hass Avocados (~8-10 oz))\n",
    "#### 4225 - Total number of avocados with PLU 4225 sold\n",
    "\n",
    "#### 4770 - Total number of avocados with PLU 4770 sold\n",
    "\n",
    "#### Inspiration /Label\n",
    "\n",
    "#### Your task is to make a mode that can consider the data provided and predict the Average Price."
   ]
  },
  {
   "cell_type": "code",
   "execution_count": 346,
   "id": "c4ae7e7b",
   "metadata": {},
   "outputs": [],
   "source": [
    "import pandas as pd\n",
    "import numpy as np\n",
    "import seaborn as sns\n",
    "import matplotlib.pyplot as plt \n",
    "import warnings\n",
    "warnings.filterwarnings('ignore')"
   ]
  },
  {
   "cell_type": "code",
   "execution_count": 347,
   "id": "cbd20246",
   "metadata": {},
   "outputs": [],
   "source": [
    "df=pd.read_csv('C:/Users/User/Downloads/Avocado.csv')"
   ]
  },
  {
   "cell_type": "markdown",
   "id": "255c62a0",
   "metadata": {},
   "source": [
    "# EDA"
   ]
  },
  {
   "cell_type": "code",
   "execution_count": 348,
   "id": "e9b9a96f",
   "metadata": {
    "scrolled": false
   },
   "outputs": [
    {
     "data": {
      "text/html": [
       "<div>\n",
       "<style scoped>\n",
       "    .dataframe tbody tr th:only-of-type {\n",
       "        vertical-align: middle;\n",
       "    }\n",
       "\n",
       "    .dataframe tbody tr th {\n",
       "        vertical-align: top;\n",
       "    }\n",
       "\n",
       "    .dataframe thead th {\n",
       "        text-align: right;\n",
       "    }\n",
       "</style>\n",
       "<table border=\"1\" class=\"dataframe\">\n",
       "  <thead>\n",
       "    <tr style=\"text-align: right;\">\n",
       "      <th></th>\n",
       "      <th>Unnamed: 0</th>\n",
       "      <th>Date</th>\n",
       "      <th>AveragePrice</th>\n",
       "      <th>Total Volume</th>\n",
       "      <th>4046</th>\n",
       "      <th>4225</th>\n",
       "      <th>4770</th>\n",
       "      <th>Total Bags</th>\n",
       "      <th>Small Bags</th>\n",
       "      <th>Large Bags</th>\n",
       "      <th>XLarge Bags</th>\n",
       "      <th>type</th>\n",
       "      <th>year</th>\n",
       "      <th>region</th>\n",
       "    </tr>\n",
       "  </thead>\n",
       "  <tbody>\n",
       "    <tr>\n",
       "      <th>16671</th>\n",
       "      <td>22</td>\n",
       "      <td>2017-07-30</td>\n",
       "      <td>2.29</td>\n",
       "      <td>28171.21</td>\n",
       "      <td>6085.95</td>\n",
       "      <td>8191.27</td>\n",
       "      <td>25.18</td>\n",
       "      <td>13868.81</td>\n",
       "      <td>1355.55</td>\n",
       "      <td>12513.26</td>\n",
       "      <td>0.00</td>\n",
       "      <td>organic</td>\n",
       "      <td>2017</td>\n",
       "      <td>Portland</td>\n",
       "    </tr>\n",
       "    <tr>\n",
       "      <th>5795</th>\n",
       "      <td>20</td>\n",
       "      <td>2017-08-13</td>\n",
       "      <td>1.51</td>\n",
       "      <td>70716.83</td>\n",
       "      <td>36652.25</td>\n",
       "      <td>3646.53</td>\n",
       "      <td>5544.33</td>\n",
       "      <td>24873.72</td>\n",
       "      <td>16648.41</td>\n",
       "      <td>8222.39</td>\n",
       "      <td>2.92</td>\n",
       "      <td>conventional</td>\n",
       "      <td>2017</td>\n",
       "      <td>Boise</td>\n",
       "    </tr>\n",
       "    <tr>\n",
       "      <th>8698</th>\n",
       "      <td>4</td>\n",
       "      <td>2018-02-25</td>\n",
       "      <td>0.67</td>\n",
       "      <td>1657524.28</td>\n",
       "      <td>855570.87</td>\n",
       "      <td>147837.21</td>\n",
       "      <td>3976.08</td>\n",
       "      <td>650140.12</td>\n",
       "      <td>544537.00</td>\n",
       "      <td>105365.34</td>\n",
       "      <td>237.78</td>\n",
       "      <td>conventional</td>\n",
       "      <td>2018</td>\n",
       "      <td>Houston</td>\n",
       "    </tr>\n",
       "    <tr>\n",
       "      <th>13562</th>\n",
       "      <td>17</td>\n",
       "      <td>2016-08-28</td>\n",
       "      <td>1.80</td>\n",
       "      <td>6294.99</td>\n",
       "      <td>2353.65</td>\n",
       "      <td>141.34</td>\n",
       "      <td>0.00</td>\n",
       "      <td>3800.00</td>\n",
       "      <td>3756.67</td>\n",
       "      <td>43.33</td>\n",
       "      <td>0.00</td>\n",
       "      <td>organic</td>\n",
       "      <td>2016</td>\n",
       "      <td>Orlando</td>\n",
       "    </tr>\n",
       "    <tr>\n",
       "      <th>6486</th>\n",
       "      <td>22</td>\n",
       "      <td>2017-07-30</td>\n",
       "      <td>1.36</td>\n",
       "      <td>222758.77</td>\n",
       "      <td>41369.26</td>\n",
       "      <td>115565.26</td>\n",
       "      <td>55.81</td>\n",
       "      <td>65768.44</td>\n",
       "      <td>64199.34</td>\n",
       "      <td>285.77</td>\n",
       "      <td>1283.33</td>\n",
       "      <td>conventional</td>\n",
       "      <td>2017</td>\n",
       "      <td>HarrisburgScranton</td>\n",
       "    </tr>\n",
       "  </tbody>\n",
       "</table>\n",
       "</div>"
      ],
      "text/plain": [
       "       Unnamed: 0        Date  AveragePrice  Total Volume       4046  \\\n",
       "16671          22  2017-07-30          2.29      28171.21    6085.95   \n",
       "5795           20  2017-08-13          1.51      70716.83   36652.25   \n",
       "8698            4  2018-02-25          0.67    1657524.28  855570.87   \n",
       "13562          17  2016-08-28          1.80       6294.99    2353.65   \n",
       "6486           22  2017-07-30          1.36     222758.77   41369.26   \n",
       "\n",
       "            4225     4770  Total Bags  Small Bags  Large Bags  XLarge Bags  \\\n",
       "16671    8191.27    25.18    13868.81     1355.55    12513.26         0.00   \n",
       "5795     3646.53  5544.33    24873.72    16648.41     8222.39         2.92   \n",
       "8698   147837.21  3976.08   650140.12   544537.00   105365.34       237.78   \n",
       "13562     141.34     0.00     3800.00     3756.67       43.33         0.00   \n",
       "6486   115565.26    55.81    65768.44    64199.34      285.77      1283.33   \n",
       "\n",
       "               type  year              region  \n",
       "16671       organic  2017            Portland  \n",
       "5795   conventional  2017               Boise  \n",
       "8698   conventional  2018             Houston  \n",
       "13562       organic  2016             Orlando  \n",
       "6486   conventional  2017  HarrisburgScranton  "
      ]
     },
     "execution_count": 348,
     "metadata": {},
     "output_type": "execute_result"
    }
   ],
   "source": [
    "df.sample(5)"
   ]
  },
  {
   "cell_type": "markdown",
   "id": "a6d8bef8",
   "metadata": {},
   "source": [
    "Unnamed: 0 seems to be a identifier column and needs to be removed."
   ]
  },
  {
   "cell_type": "code",
   "execution_count": 349,
   "id": "3c0e23bf",
   "metadata": {},
   "outputs": [
    {
     "data": {
      "text/plain": [
       "(18249, 14)"
      ]
     },
     "execution_count": 349,
     "metadata": {},
     "output_type": "execute_result"
    }
   ],
   "source": [
    "df.shape"
   ]
  },
  {
   "cell_type": "markdown",
   "id": "e00d31a7",
   "metadata": {},
   "source": [
    "There are 18249 rows and 14 columns"
   ]
  },
  {
   "cell_type": "code",
   "execution_count": 350,
   "id": "c17be189",
   "metadata": {
    "scrolled": true
   },
   "outputs": [
    {
     "name": "stdout",
     "output_type": "stream",
     "text": [
      "<class 'pandas.core.frame.DataFrame'>\n",
      "RangeIndex: 18249 entries, 0 to 18248\n",
      "Data columns (total 14 columns):\n",
      " #   Column        Non-Null Count  Dtype  \n",
      "---  ------        --------------  -----  \n",
      " 0   Unnamed: 0    18249 non-null  int64  \n",
      " 1   Date          18249 non-null  object \n",
      " 2   AveragePrice  18249 non-null  float64\n",
      " 3   Total Volume  18249 non-null  float64\n",
      " 4   4046          18249 non-null  float64\n",
      " 5   4225          18249 non-null  float64\n",
      " 6   4770          18249 non-null  float64\n",
      " 7   Total Bags    18249 non-null  float64\n",
      " 8   Small Bags    18249 non-null  float64\n",
      " 9   Large Bags    18249 non-null  float64\n",
      " 10  XLarge Bags   18249 non-null  float64\n",
      " 11  type          18249 non-null  object \n",
      " 12  year          18249 non-null  int64  \n",
      " 13  region        18249 non-null  object \n",
      "dtypes: float64(9), int64(2), object(3)\n",
      "memory usage: 1.9+ MB\n"
     ]
    }
   ],
   "source": [
    "df.info()"
   ]
  },
  {
   "cell_type": "markdown",
   "id": "5a85af29",
   "metadata": {},
   "source": [
    "Dataframe have 3 columns with object type data, which we need to encode."
   ]
  },
  {
   "cell_type": "code",
   "execution_count": 351,
   "id": "ece85478",
   "metadata": {
    "scrolled": true
   },
   "outputs": [
    {
     "data": {
      "text/plain": [
       "Unnamed: 0         53\n",
       "Date              169\n",
       "AveragePrice      259\n",
       "Total Volume    18237\n",
       "4046            17702\n",
       "4225            18103\n",
       "4770            12071\n",
       "Total Bags      18097\n",
       "Small Bags      17321\n",
       "Large Bags      15082\n",
       "XLarge Bags      5588\n",
       "type                2\n",
       "year                4\n",
       "region             54\n",
       "dtype: int64"
      ]
     },
     "execution_count": 351,
     "metadata": {},
     "output_type": "execute_result"
    }
   ],
   "source": [
    "df.nunique()"
   ]
  },
  {
   "cell_type": "code",
   "execution_count": 352,
   "id": "efe1146a",
   "metadata": {},
   "outputs": [
    {
     "data": {
      "text/plain": [
       "Albany                 338\n",
       "Sacramento             338\n",
       "Northeast              338\n",
       "NorthernNewEngland     338\n",
       "Orlando                338\n",
       "Philadelphia           338\n",
       "PhoenixTucson          338\n",
       "Pittsburgh             338\n",
       "Plains                 338\n",
       "Portland               338\n",
       "RaleighGreensboro      338\n",
       "RichmondNorfolk        338\n",
       "Roanoke                338\n",
       "SanDiego               338\n",
       "Atlanta                338\n",
       "SanFrancisco           338\n",
       "Seattle                338\n",
       "SouthCarolina          338\n",
       "SouthCentral           338\n",
       "Southeast              338\n",
       "Spokane                338\n",
       "StLouis                338\n",
       "Syracuse               338\n",
       "Tampa                  338\n",
       "TotalUS                338\n",
       "West                   338\n",
       "NewYork                338\n",
       "NewOrleansMobile       338\n",
       "Nashville              338\n",
       "Midsouth               338\n",
       "BaltimoreWashington    338\n",
       "Boise                  338\n",
       "Boston                 338\n",
       "BuffaloRochester       338\n",
       "California             338\n",
       "Charlotte              338\n",
       "Chicago                338\n",
       "CincinnatiDayton       338\n",
       "Columbus               338\n",
       "DallasFtWorth          338\n",
       "Denver                 338\n",
       "Detroit                338\n",
       "GrandRapids            338\n",
       "GreatLakes             338\n",
       "HarrisburgScranton     338\n",
       "HartfordSpringfield    338\n",
       "Houston                338\n",
       "Indianapolis           338\n",
       "Jacksonville           338\n",
       "LasVegas               338\n",
       "LosAngeles             338\n",
       "Louisville             338\n",
       "MiamiFtLauderdale      338\n",
       "WestTexNewMexico       335\n",
       "Name: region, dtype: int64"
      ]
     },
     "execution_count": 352,
     "metadata": {},
     "output_type": "execute_result"
    }
   ],
   "source": [
    "df.region.value_counts()"
   ]
  },
  {
   "cell_type": "markdown",
   "id": "6179dd46",
   "metadata": {},
   "source": [
    "There are no constant or identifier column."
   ]
  },
  {
   "cell_type": "code",
   "execution_count": 353,
   "id": "9cfbf853",
   "metadata": {},
   "outputs": [
    {
     "data": {
      "text/plain": [
       "Unnamed: 0      0\n",
       "Date            0\n",
       "AveragePrice    0\n",
       "Total Volume    0\n",
       "4046            0\n",
       "4225            0\n",
       "4770            0\n",
       "Total Bags      0\n",
       "Small Bags      0\n",
       "Large Bags      0\n",
       "XLarge Bags     0\n",
       "type            0\n",
       "year            0\n",
       "region          0\n",
       "dtype: int64"
      ]
     },
     "execution_count": 353,
     "metadata": {},
     "output_type": "execute_result"
    }
   ],
   "source": [
    "df.isnull().sum()"
   ]
  },
  {
   "cell_type": "markdown",
   "id": "98d749fc",
   "metadata": {},
   "source": [
    "###### There are no null values."
   ]
  },
  {
   "cell_type": "code",
   "execution_count": 354,
   "id": "c2393b2f",
   "metadata": {
    "scrolled": false
   },
   "outputs": [
    {
     "data": {
      "text/plain": [
       "Unnamed: 0       0.108334\n",
       "AveragePrice     0.580303\n",
       "Total Volume     9.007687\n",
       "4046             8.648220\n",
       "4225             8.942466\n",
       "4770            10.159396\n",
       "Total Bags       9.756072\n",
       "Small Bags       9.540660\n",
       "Large Bags       9.796455\n",
       "XLarge Bags     13.139751\n",
       "year             0.215339\n",
       "dtype: float64"
      ]
     },
     "execution_count": 354,
     "metadata": {},
     "output_type": "execute_result"
    }
   ],
   "source": [
    "df.skew()"
   ]
  },
  {
   "cell_type": "markdown",
   "id": "d043bf98",
   "metadata": {},
   "source": [
    "#### Data is higly skewed in almost all the columns."
   ]
  },
  {
   "cell_type": "code",
   "execution_count": 355,
   "id": "e467044c",
   "metadata": {
    "scrolled": true
   },
   "outputs": [
    {
     "data": {
      "text/html": [
       "<div>\n",
       "<style scoped>\n",
       "    .dataframe tbody tr th:only-of-type {\n",
       "        vertical-align: middle;\n",
       "    }\n",
       "\n",
       "    .dataframe tbody tr th {\n",
       "        vertical-align: top;\n",
       "    }\n",
       "\n",
       "    .dataframe thead th {\n",
       "        text-align: right;\n",
       "    }\n",
       "</style>\n",
       "<table border=\"1\" class=\"dataframe\">\n",
       "  <thead>\n",
       "    <tr style=\"text-align: right;\">\n",
       "      <th></th>\n",
       "      <th>Unnamed: 0</th>\n",
       "      <th>AveragePrice</th>\n",
       "      <th>Total Volume</th>\n",
       "      <th>4046</th>\n",
       "      <th>4225</th>\n",
       "      <th>4770</th>\n",
       "      <th>Total Bags</th>\n",
       "      <th>Small Bags</th>\n",
       "      <th>Large Bags</th>\n",
       "      <th>XLarge Bags</th>\n",
       "      <th>year</th>\n",
       "    </tr>\n",
       "  </thead>\n",
       "  <tbody>\n",
       "    <tr>\n",
       "      <th>count</th>\n",
       "      <td>18249.000000</td>\n",
       "      <td>18249.000000</td>\n",
       "      <td>1.824900e+04</td>\n",
       "      <td>1.824900e+04</td>\n",
       "      <td>1.824900e+04</td>\n",
       "      <td>1.824900e+04</td>\n",
       "      <td>1.824900e+04</td>\n",
       "      <td>1.824900e+04</td>\n",
       "      <td>1.824900e+04</td>\n",
       "      <td>18249.000000</td>\n",
       "      <td>18249.000000</td>\n",
       "    </tr>\n",
       "    <tr>\n",
       "      <th>mean</th>\n",
       "      <td>24.232232</td>\n",
       "      <td>1.405978</td>\n",
       "      <td>8.506440e+05</td>\n",
       "      <td>2.930084e+05</td>\n",
       "      <td>2.951546e+05</td>\n",
       "      <td>2.283974e+04</td>\n",
       "      <td>2.396392e+05</td>\n",
       "      <td>1.821947e+05</td>\n",
       "      <td>5.433809e+04</td>\n",
       "      <td>3106.426507</td>\n",
       "      <td>2016.147899</td>\n",
       "    </tr>\n",
       "    <tr>\n",
       "      <th>std</th>\n",
       "      <td>15.481045</td>\n",
       "      <td>0.402677</td>\n",
       "      <td>3.453545e+06</td>\n",
       "      <td>1.264989e+06</td>\n",
       "      <td>1.204120e+06</td>\n",
       "      <td>1.074641e+05</td>\n",
       "      <td>9.862424e+05</td>\n",
       "      <td>7.461785e+05</td>\n",
       "      <td>2.439660e+05</td>\n",
       "      <td>17692.894652</td>\n",
       "      <td>0.939938</td>\n",
       "    </tr>\n",
       "    <tr>\n",
       "      <th>min</th>\n",
       "      <td>0.000000</td>\n",
       "      <td>0.440000</td>\n",
       "      <td>8.456000e+01</td>\n",
       "      <td>0.000000e+00</td>\n",
       "      <td>0.000000e+00</td>\n",
       "      <td>0.000000e+00</td>\n",
       "      <td>0.000000e+00</td>\n",
       "      <td>0.000000e+00</td>\n",
       "      <td>0.000000e+00</td>\n",
       "      <td>0.000000</td>\n",
       "      <td>2015.000000</td>\n",
       "    </tr>\n",
       "    <tr>\n",
       "      <th>25%</th>\n",
       "      <td>10.000000</td>\n",
       "      <td>1.100000</td>\n",
       "      <td>1.083858e+04</td>\n",
       "      <td>8.540700e+02</td>\n",
       "      <td>3.008780e+03</td>\n",
       "      <td>0.000000e+00</td>\n",
       "      <td>5.088640e+03</td>\n",
       "      <td>2.849420e+03</td>\n",
       "      <td>1.274700e+02</td>\n",
       "      <td>0.000000</td>\n",
       "      <td>2015.000000</td>\n",
       "    </tr>\n",
       "    <tr>\n",
       "      <th>50%</th>\n",
       "      <td>24.000000</td>\n",
       "      <td>1.370000</td>\n",
       "      <td>1.073768e+05</td>\n",
       "      <td>8.645300e+03</td>\n",
       "      <td>2.906102e+04</td>\n",
       "      <td>1.849900e+02</td>\n",
       "      <td>3.974383e+04</td>\n",
       "      <td>2.636282e+04</td>\n",
       "      <td>2.647710e+03</td>\n",
       "      <td>0.000000</td>\n",
       "      <td>2016.000000</td>\n",
       "    </tr>\n",
       "    <tr>\n",
       "      <th>75%</th>\n",
       "      <td>38.000000</td>\n",
       "      <td>1.660000</td>\n",
       "      <td>4.329623e+05</td>\n",
       "      <td>1.110202e+05</td>\n",
       "      <td>1.502069e+05</td>\n",
       "      <td>6.243420e+03</td>\n",
       "      <td>1.107834e+05</td>\n",
       "      <td>8.333767e+04</td>\n",
       "      <td>2.202925e+04</td>\n",
       "      <td>132.500000</td>\n",
       "      <td>2017.000000</td>\n",
       "    </tr>\n",
       "    <tr>\n",
       "      <th>max</th>\n",
       "      <td>52.000000</td>\n",
       "      <td>3.250000</td>\n",
       "      <td>6.250565e+07</td>\n",
       "      <td>2.274362e+07</td>\n",
       "      <td>2.047057e+07</td>\n",
       "      <td>2.546439e+06</td>\n",
       "      <td>1.937313e+07</td>\n",
       "      <td>1.338459e+07</td>\n",
       "      <td>5.719097e+06</td>\n",
       "      <td>551693.650000</td>\n",
       "      <td>2018.000000</td>\n",
       "    </tr>\n",
       "  </tbody>\n",
       "</table>\n",
       "</div>"
      ],
      "text/plain": [
       "         Unnamed: 0  AveragePrice  Total Volume          4046          4225  \\\n",
       "count  18249.000000  18249.000000  1.824900e+04  1.824900e+04  1.824900e+04   \n",
       "mean      24.232232      1.405978  8.506440e+05  2.930084e+05  2.951546e+05   \n",
       "std       15.481045      0.402677  3.453545e+06  1.264989e+06  1.204120e+06   \n",
       "min        0.000000      0.440000  8.456000e+01  0.000000e+00  0.000000e+00   \n",
       "25%       10.000000      1.100000  1.083858e+04  8.540700e+02  3.008780e+03   \n",
       "50%       24.000000      1.370000  1.073768e+05  8.645300e+03  2.906102e+04   \n",
       "75%       38.000000      1.660000  4.329623e+05  1.110202e+05  1.502069e+05   \n",
       "max       52.000000      3.250000  6.250565e+07  2.274362e+07  2.047057e+07   \n",
       "\n",
       "               4770    Total Bags    Small Bags    Large Bags    XLarge Bags  \\\n",
       "count  1.824900e+04  1.824900e+04  1.824900e+04  1.824900e+04   18249.000000   \n",
       "mean   2.283974e+04  2.396392e+05  1.821947e+05  5.433809e+04    3106.426507   \n",
       "std    1.074641e+05  9.862424e+05  7.461785e+05  2.439660e+05   17692.894652   \n",
       "min    0.000000e+00  0.000000e+00  0.000000e+00  0.000000e+00       0.000000   \n",
       "25%    0.000000e+00  5.088640e+03  2.849420e+03  1.274700e+02       0.000000   \n",
       "50%    1.849900e+02  3.974383e+04  2.636282e+04  2.647710e+03       0.000000   \n",
       "75%    6.243420e+03  1.107834e+05  8.333767e+04  2.202925e+04     132.500000   \n",
       "max    2.546439e+06  1.937313e+07  1.338459e+07  5.719097e+06  551693.650000   \n",
       "\n",
       "               year  \n",
       "count  18249.000000  \n",
       "mean    2016.147899  \n",
       "std        0.939938  \n",
       "min     2015.000000  \n",
       "25%     2015.000000  \n",
       "50%     2016.000000  \n",
       "75%     2017.000000  \n",
       "max     2018.000000  "
      ]
     },
     "execution_count": 355,
     "metadata": {},
     "output_type": "execute_result"
    }
   ],
   "source": [
    "df.describe()"
   ]
  },
  {
   "cell_type": "markdown",
   "id": "a0ef4b49",
   "metadata": {},
   "source": [
    "#### All the columns have count equal to 18249. Mean and median have high difference except for Average price stating that data has high skewness present. There is high variance in all the columns except for Average price and year column. Difference between min, max and interquartile ranges is uneven hence there are a no. of outliers present in the data."
   ]
  },
  {
   "cell_type": "code",
   "execution_count": 356,
   "id": "5e490d81",
   "metadata": {},
   "outputs": [
    {
     "data": {
      "text/plain": [
       "Unnamed: 0         53\n",
       "Date              169\n",
       "AveragePrice      259\n",
       "Total Volume    18237\n",
       "4046            17702\n",
       "4225            18103\n",
       "4770            12071\n",
       "Total Bags      18097\n",
       "Small Bags      17321\n",
       "Large Bags      15082\n",
       "XLarge Bags      5588\n",
       "type                2\n",
       "year                4\n",
       "region             54\n",
       "dtype: int64"
      ]
     },
     "execution_count": 356,
     "metadata": {},
     "output_type": "execute_result"
    }
   ],
   "source": [
    "df.nunique()"
   ]
  },
  {
   "cell_type": "markdown",
   "id": "727c1394",
   "metadata": {},
   "source": [
    "## Univariate Analysis"
   ]
  },
  {
   "cell_type": "code",
   "execution_count": 357,
   "id": "39f840d2",
   "metadata": {},
   "outputs": [],
   "source": [
    "#We separate categorical and continuous features\n",
    "catcol=['year','region','type']\n",
    "cont=['Total Volume', '4046', '4225','4770', 'Total Bags', 'Small Bags', 'Large Bags', 'XLarge Bags']"
   ]
  },
  {
   "cell_type": "code",
   "execution_count": 358,
   "id": "9efc7aee",
   "metadata": {
    "scrolled": true
   },
   "outputs": [
    {
     "data": {
      "text/plain": [
       "conventional    9126\n",
       "organic         9123\n",
       "Name: type, dtype: int64"
      ]
     },
     "execution_count": 358,
     "metadata": {},
     "output_type": "execute_result"
    },
    {
     "data": {
      "image/png": "[encoded data removed]",
      "text/plain": [
       "<Figure size 1080x288 with 2 Axes>"
      ]
     },
     "metadata": {
      "needs_background": "light"
     },
     "output_type": "display_data"
    }
   ],
   "source": [
    "plt.figure(figsize=(15,4))\n",
    "plt.subplot(1,2,1)\n",
    "df['type'].value_counts().plot.pie(autopct='%1.1f%%')\n",
    "plt.subplot(1,2,2)\n",
    "sns.countplot(df['type'])\n",
    "df['type'].value_counts()"
   ]
  },
  {
   "cell_type": "markdown",
   "id": "2153c1db",
   "metadata": {},
   "source": [
    "###### There two types organic and conventional are almost equal and balanced."
   ]
  },
  {
   "cell_type": "code",
   "execution_count": 359,
   "id": "17530d3b",
   "metadata": {
    "scrolled": true
   },
   "outputs": [
    {
     "data": {
      "text/plain": [
       "2017    5722\n",
       "2016    5616\n",
       "2015    5615\n",
       "2018    1296\n",
       "Name: year, dtype: int64"
      ]
     },
     "execution_count": 359,
     "metadata": {},
     "output_type": "execute_result"
    },
    {
     "data": {
      "image/png": "[encoded data removed]",
      "text/plain": [
       "<Figure size 1080x288 with 2 Axes>"
      ]
     },
     "metadata": {
      "needs_background": "light"
     },
     "output_type": "display_data"
    }
   ],
   "source": [
    "plt.figure(figsize=(15,4))\n",
    "plt.subplot(1,2,1)\n",
    "sns.countplot(df['year'])\n",
    "plt.subplot(1,2,2)\n",
    "df['year'].value_counts().plot.pie(autopct='%1.1f%%')\n",
    "df['year'].value_counts()"
   ]
  },
  {
   "cell_type": "markdown",
   "id": "fa6842dd",
   "metadata": {},
   "source": [
    "#### Most of the data is from 2017 followed by 2016 and 2015 respectively, while 2018 has the least data."
   ]
  },
  {
   "cell_type": "code",
   "execution_count": 360,
   "id": "1861eff9",
   "metadata": {},
   "outputs": [
    {
     "name": "stdout",
     "output_type": "stream",
     "text": [
      "Total number of regions 54\n"
     ]
    },
    {
     "data": {
      "image/png": "[encoded data removed]",
      "text/plain": [
       "<Figure size 1800x720 with 1 Axes>"
      ]
     },
     "metadata": {
      "needs_background": "light"
     },
     "output_type": "display_data"
    }
   ],
   "source": [
    "plt.figure(figsize=(25,10))\n",
    "sns.countplot(df['region'])\n",
    "plt.xticks(rotation=90)\n",
    "print('Total number of regions',df['region'].nunique())"
   ]
  },
  {
   "cell_type": "markdown",
   "id": "04e962e5",
   "metadata": {},
   "source": [
    "#### There are 54 regions in total. All the region produces almost equal amounts of avocados except for west tex new mexico which has slightly less number."
   ]
  },
  {
   "cell_type": "code",
   "execution_count": 361,
   "id": "1492d9b3",
   "metadata": {
    "scrolled": false
   },
   "outputs": [
    {
     "name": "stdout",
     "output_type": "stream",
     "text": [
      "Minimum 0.44\n",
      "Maximum 3.25\n"
     ]
    },
    {
     "data": {
      "image/png": "[encoded data removed]",
      "text/plain": [
       "<Figure size 432x288 with 1 Axes>"
      ]
     },
     "metadata": {
      "needs_background": "light"
     },
     "output_type": "display_data"
    }
   ],
   "source": [
    "sns.distplot(df['AveragePrice'],color='m', kde_kws={\"color\": \"k\"})\n",
    "print('Minimum',df['AveragePrice'].min())\n",
    "print('Maximum',df['AveragePrice'].max())"
   ]
  },
  {
   "cell_type": "markdown",
   "id": "ec523afe",
   "metadata": {},
   "source": [
    "#### Average price of avacados little skewed, price ranging from 0.44 t0 3.25"
   ]
  },
  {
   "cell_type": "markdown",
   "id": "c3e39564",
   "metadata": {},
   "source": [
    "## Biveriate Analysis"
   ]
  },
  {
   "cell_type": "code",
   "execution_count": 362,
   "id": "03c8f581",
   "metadata": {
    "scrolled": true
   },
   "outputs": [
    {
     "data": {
      "text/plain": [
       "<AxesSubplot:title={'center':'Avocado Avarage price by type'}, xlabel='type', ylabel='AveragePrice'>"
      ]
     },
     "execution_count": 362,
     "metadata": {},
     "output_type": "execute_result"
    },
    {
     "data": {
      "image/png": "[encoded data removed]",
      "text/plain": [
       "<Figure size 432x288 with 1 Axes>"
      ]
     },
     "metadata": {
      "needs_background": "light"
     },
     "output_type": "display_data"
    }
   ],
   "source": [
    "plt.title('Avocado Avarage price by type')\n",
    "sns.barplot(x='type',y='AveragePrice',data=df)"
   ]
  },
  {
   "cell_type": "markdown",
   "id": "66d9da9b",
   "metadata": {},
   "source": [
    "##### Organic Avacoados are more expensive than the conventional ones."
   ]
  },
  {
   "cell_type": "code",
   "execution_count": 363,
   "id": "88317eb3",
   "metadata": {
    "scrolled": false
   },
   "outputs": [
    {
     "data": {
      "text/plain": [
       "<AxesSubplot:title={'center':'Total Volume by type'}, xlabel='type', ylabel='Total Volume'>"
      ]
     },
     "execution_count": 363,
     "metadata": {},
     "output_type": "execute_result"
    },
    {
     "data": {
      "image/png": "[encoded data removed]",
      "text/plain": [
       "<Figure size 648x360 with 1 Axes>"
      ]
     },
     "metadata": {
      "needs_background": "light"
     },
     "output_type": "display_data"
    }
   ],
   "source": [
    "plt.figure(figsize=(9,5))\n",
    "plt.title('Total Volume by type')\n",
    "sns.barplot(x='type',y='Total Volume',data=df)"
   ]
  },
  {
   "cell_type": "markdown",
   "id": "e36d4d67",
   "metadata": {},
   "source": [
    "#### Toal volumes. types of bags, and PLU's are all high for convetional type of avocados, this states that although price of organic type is high but cnventional types of avocados are more produced."
   ]
  },
  {
   "cell_type": "markdown",
   "id": "a89c3f5a",
   "metadata": {},
   "source": [
    "#### "
   ]
  },
  {
   "cell_type": "markdown",
   "id": "d26e43bf",
   "metadata": {},
   "source": [
    "## MultiVeriate Analysis"
   ]
  },
  {
   "cell_type": "code",
   "execution_count": 364,
   "id": "c9ca9e7a",
   "metadata": {
    "scrolled": false
   },
   "outputs": [
    {
     "data": {
      "application/vnd.plotly.v1+json": {
       "config": {
        "plotlyServerURL": "https://plot.ly"
       },
       "data": [
        {
         "hovertemplate": "year=2017<br>AveragePrice=%{x}<br>Volume=%{y}<extra></extra>",
         "legendgroup": "2017",
         "line": {
          "color": "#636efa",
          "dash": "solid"
         },
         "marker": {
          "symbol": "circle"
         },
         "mode": "lines",
         "name": "2017",
         "orientation": "v",
         "showlegend": true,
         "type": "scatter",
         "x": [
          0.44,
          0.46,
          0.48,
          0.49,
          0.51,
          0.52,
          0.53,
          0.54,
          0.55,
          0.56,
          0.57,
          0.58,
          0.6,
          0.61,
          0.62,
          0.63,
          0.64,
          0.65,
          0.66,
          0.67,
          0.68,
          0.69,
          0.7,
          0.71,
          0.72,
          0.73,
          0.74,
          0.75,
          0.76,
          0.77,
          0.78,
          0.79,
          0.8,
          0.81,
          0.82,
          0.83,
          0.84,
          0.85,
          0.86,
          0.87,
          0.88,
          0.89,
          0.9,
          0.91,
          0.92,
          0.93,
          0.94,
          0.95,
          0.96,
          0.97,
          0.98,
          0.99,
          1,
          1.01,
          1.02,
          1.03,
          1.04,
          1.05,
          1.06,
          1.07,
          1.08,
          1.09,
          1.1,
          1.11,
          1.12,
          1.13,
          1.14,
          1.15,
          1.16,
          1.17,
          1.18,
          1.19,
          1.2,
          1.21,
          1.22,
          1.23,
          1.24,
          1.25,
          1.26,
          1.27,
          1.28,
          1.29,
          1.3,
          1.31,
          1.32,
          1.33,
          1.34,
          1.35,
          1.36,
          1.37,
          1.38,
          1.39,
          1.4,
          1.41,
          1.42,
          1.43,
          1.44,
          1.45,
          1.46,
          1.47,
          1.48,
          1.49,
          1.5,
          1.51,
          1.52,
          1.53,
          1.54,
          1.55,
          1.56,
          1.57,
          1.58,
          1.59,
          1.6,
          1.61,
          1.62,
          1.63,
          1.64,
          1.65,
          1.66,
          1.67,
          1.68,
          1.69,
          1.7,
          1.71,
          1.72,
          1.73,
          1.74,
          1.75,
          1.76,
          1.77,
          1.78,
          1.79,
          1.8,
          1.81,
          1.82,
          1.83,
          1.84,
          1.85,
          1.86,
          1.87,
          1.88,
          1.89,
          1.9,
          1.91,
          1.92,
          1.93,
          1.94,
          1.95,
          1.96,
          1.97,
          1.98,
          1.99,
          2,
          2.01,
          2.02,
          2.03,
          2.04,
          2.05,
          2.06,
          2.07,
          2.08,
          2.09,
          2.1,
          2.11,
          2.12,
          2.13,
          2.14,
          2.15,
          2.16,
          2.17,
          2.18,
          2.19,
          2.2,
          2.21,
          2.22,
          2.23,
          2.24,
          2.25,
          2.26,
          2.27,
          2.28,
          2.29,
          2.3,
          2.31,
          2.32,
          2.33,
          2.34,
          2.35,
          2.36,
          2.37,
          2.38,
          2.39,
          2.4,
          2.41,
          2.42,
          2.43,
          2.44,
          2.45,
          2.46,
          2.47,
          2.48,
          2.49,
          2.5,
          2.51,
          2.52,
          2.53,
          2.54,
          2.55,
          2.56,
          2.57,
          2.58,
          2.59,
          2.6,
          2.61,
          2.62,
          2.63,
          2.64,
          2.65,
          2.66,
          2.67,
          2.69,
          2.7,
          2.71,
          2.72,
          2.73,
          2.74,
          2.75,
          2.76,
          2.77,
          2.78,
          2.79,
          2.8,
          2.81,
          2.82,
          2.83,
          2.84,
          2.85,
          2.86,
          2.87,
          2.88,
          2.89,
          2.9,
          2.92,
          2.93,
          2.94,
          2.95,
          2.96,
          2.97,
          2.99,
          3,
          3.04,
          3.05,
          3.17
         ],
         "xaxis": "x",
         "y": [
          1,
          1,
          1,
          1,
          3,
          2,
          3,
          3,
          1,
          2,
          5,
          2,
          5,
          2,
          3,
          2,
          7,
          12,
          4,
          7,
          11,
          3,
          17,
          1,
          6,
          10,
          12,
          12,
          17,
          19,
          10,
          11,
          10,
          13,
          9,
          19,
          25,
          22,
          17,
          17,
          14,
          20,
          26,
          19,
          21,
          34,
          28,
          29,
          25,
          21,
          32,
          45,
          27,
          34,
          41,
          27,
          31,
          25,
          36,
          26,
          30,
          26,
          24,
          30,
          27,
          50,
          46,
          44,
          40,
          40,
          53,
          53,
          36,
          41,
          33,
          57,
          38,
          45,
          60,
          40,
          51,
          54,
          50,
          41,
          46,
          51,
          54,
          45,
          50,
          53,
          67,
          53,
          58,
          59,
          55,
          61,
          61,
          57,
          54,
          46,
          69,
          61,
          60,
          47,
          47,
          47,
          69,
          52,
          64,
          55,
          50,
          69,
          58,
          54,
          58,
          48,
          54,
          40,
          45,
          58,
          51,
          41,
          50,
          36,
          48,
          39,
          52,
          36,
          46,
          31,
          42,
          39,
          46,
          45,
          45,
          36,
          31,
          33,
          31,
          20,
          37,
          36,
          26,
          24,
          20,
          27,
          25,
          23,
          22,
          24,
          17,
          20,
          28,
          19,
          19,
          17,
          19,
          21,
          32,
          23,
          19,
          26,
          14,
          16,
          15,
          16,
          16,
          18,
          11,
          17,
          14,
          13,
          10,
          12,
          12,
          8,
          6,
          11,
          9,
          7,
          3,
          9,
          3,
          8,
          11,
          10,
          6,
          7,
          8,
          10,
          7,
          8,
          7,
          2,
          4,
          10,
          8,
          6,
          5,
          3,
          8,
          4,
          6,
          4,
          3,
          2,
          7,
          8,
          4,
          7,
          7,
          9,
          2,
          5,
          6,
          2,
          4,
          6,
          2,
          4,
          2,
          3,
          3,
          1,
          3,
          1,
          2,
          3,
          2,
          1,
          1,
          2,
          3,
          2,
          5,
          4,
          3,
          4,
          3,
          2,
          2,
          1,
          2,
          2,
          1,
          1,
          1,
          1,
          1,
          2,
          1,
          1,
          1
         ],
         "yaxis": "y"
        },
        {
         "hovertemplate": "year=2015<br>AveragePrice=%{x}<br>Volume=%{y}<extra></extra>",
         "legendgroup": "2015",
         "line": {
          "color": "#EF553B",
          "dash": "solid"
         },
         "marker": {
          "symbol": "circle"
         },
         "mode": "lines",
         "name": "2015",
         "orientation": "v",
         "showlegend": true,
         "type": "scatter",
         "x": [
          0.49,
          0.51,
          0.52,
          0.53,
          0.54,
          0.56,
          0.57,
          0.58,
          0.6,
          0.61,
          0.62,
          0.63,
          0.64,
          0.65,
          0.66,
          0.67,
          0.68,
          0.69,
          0.7,
          0.71,
          0.72,
          0.73,
          0.74,
          0.75,
          0.76,
          0.77,
          0.78,
          0.79,
          0.8,
          0.81,
          0.82,
          0.83,
          0.84,
          0.85,
          0.86,
          0.87,
          0.88,
          0.89,
          0.9,
          0.91,
          0.92,
          0.93,
          0.94,
          0.95,
          0.96,
          0.97,
          0.98,
          0.99,
          1,
          1.01,
          1.02,
          1.03,
          1.04,
          1.05,
          1.06,
          1.07,
          1.08,
          1.09,
          1.1,
          1.11,
          1.12,
          1.13,
          1.14,
          1.15,
          1.16,
          1.17,
          1.18,
          1.19,
          1.2,
          1.21,
          1.22,
          1.23,
          1.24,
          1.25,
          1.26,
          1.27,
          1.28,
          1.29,
          1.3,
          1.31,
          1.32,
          1.33,
          1.34,
          1.35,
          1.36,
          1.37,
          1.38,
          1.39,
          1.4,
          1.41,
          1.42,
          1.43,
          1.44,
          1.45,
          1.46,
          1.47,
          1.48,
          1.49,
          1.5,
          1.51,
          1.52,
          1.53,
          1.54,
          1.55,
          1.56,
          1.57,
          1.58,
          1.59,
          1.6,
          1.61,
          1.62,
          1.63,
          1.64,
          1.65,
          1.66,
          1.67,
          1.68,
          1.69,
          1.7,
          1.71,
          1.72,
          1.73,
          1.74,
          1.75,
          1.76,
          1.77,
          1.78,
          1.79,
          1.8,
          1.81,
          1.82,
          1.83,
          1.84,
          1.85,
          1.86,
          1.87,
          1.88,
          1.89,
          1.9,
          1.91,
          1.92,
          1.93,
          1.94,
          1.95,
          1.96,
          1.97,
          1.98,
          1.99,
          2,
          2.01,
          2.02,
          2.03,
          2.04,
          2.05,
          2.06,
          2.07,
          2.08,
          2.09,
          2.1,
          2.11,
          2.12,
          2.13,
          2.14,
          2.15,
          2.16,
          2.17,
          2.18,
          2.19,
          2.2,
          2.21,
          2.22,
          2.23,
          2.24,
          2.25,
          2.26,
          2.27,
          2.28,
          2.29,
          2.3,
          2.31,
          2.32,
          2.33,
          2.34,
          2.35,
          2.36,
          2.37,
          2.38,
          2.39,
          2.4,
          2.41,
          2.42,
          2.45,
          2.58,
          2.59,
          2.66,
          2.71,
          2.72,
          2.73,
          2.74,
          2.75,
          2.76,
          2.77,
          2.79
         ],
         "xaxis": "x",
         "y": [
          1,
          1,
          1,
          3,
          1,
          4,
          2,
          2,
          4,
          2,
          2,
          1,
          1,
          3,
          4,
          6,
          3,
          1,
          7,
          13,
          8,
          8,
          18,
          13,
          13,
          15,
          18,
          21,
          22,
          16,
          21,
          25,
          10,
          18,
          8,
          15,
          21,
          28,
          20,
          27,
          30,
          43,
          36,
          42,
          54,
          68,
          83,
          81,
          73,
          68,
          71,
          85,
          67,
          71,
          69,
          66,
          77,
          78,
          67,
          77,
          65,
          72,
          66,
          71,
          67,
          67,
          62,
          76,
          53,
          54,
          63,
          58,
          67,
          59,
          61,
          46,
          38,
          34,
          28,
          21,
          30,
          39,
          33,
          49,
          51,
          33,
          28,
          35,
          39,
          27,
          27,
          43,
          45,
          30,
          30,
          39,
          45,
          42,
          53,
          36,
          37,
          45,
          38,
          54,
          35,
          32,
          37,
          48,
          42,
          35,
          34,
          38,
          33,
          50,
          52,
          33,
          44,
          42,
          38,
          24,
          32,
          24,
          30,
          33,
          32,
          28,
          31,
          43,
          40,
          42,
          51,
          44,
          44,
          47,
          36,
          39,
          41,
          29,
          36,
          28,
          44,
          37,
          28,
          20,
          23,
          18,
          21,
          13,
          20,
          25,
          22,
          12,
          8,
          11,
          15,
          12,
          9,
          13,
          3,
          10,
          8,
          6,
          7,
          5,
          6,
          4,
          10,
          4,
          2,
          7,
          2,
          2,
          8,
          2,
          2,
          3,
          3,
          3,
          3,
          9,
          2,
          2,
          4,
          2,
          3,
          2,
          2,
          2,
          3,
          1,
          1,
          1,
          1,
          1,
          1,
          1,
          1,
          3,
          1,
          1,
          1,
          1,
          2
         ],
         "yaxis": "y"
        },
        {
         "hovertemplate": "year=2016<br>AveragePrice=%{x}<br>Volume=%{y}<extra></extra>",
         "legendgroup": "2016",
         "line": {
          "color": "#00cc96",
          "dash": "solid"
         },
         "marker": {
          "symbol": "circle"
         },
         "mode": "lines",
         "name": "2016",
         "orientation": "v",
         "showlegend": true,
         "type": "scatter",
         "x": [
          0.51,
          0.54,
          0.55,
          0.56,
          0.57,
          0.58,
          0.59,
          0.6,
          0.61,
          0.62,
          0.63,
          0.64,
          0.65,
          0.66,
          0.67,
          0.68,
          0.69,
          0.7,
          0.71,
          0.72,
          0.73,
          0.74,
          0.75,
          0.76,
          0.77,
          0.78,
          0.79,
          0.8,
          0.81,
          0.82,
          0.83,
          0.84,
          0.85,
          0.86,
          0.87,
          0.88,
          0.89,
          0.9,
          0.91,
          0.92,
          0.93,
          0.94,
          0.95,
          0.96,
          0.97,
          0.98,
          0.99,
          1,
          1.01,
          1.02,
          1.03,
          1.04,
          1.05,
          1.06,
          1.07,
          1.08,
          1.09,
          1.1,
          1.11,
          1.12,
          1.13,
          1.14,
          1.15,
          1.16,
          1.17,
          1.18,
          1.19,
          1.2,
          1.21,
          1.22,
          1.23,
          1.24,
          1.25,
          1.26,
          1.27,
          1.28,
          1.29,
          1.3,
          1.31,
          1.32,
          1.33,
          1.34,
          1.35,
          1.36,
          1.37,
          1.38,
          1.39,
          1.4,
          1.41,
          1.42,
          1.43,
          1.44,
          1.45,
          1.46,
          1.47,
          1.48,
          1.49,
          1.5,
          1.51,
          1.52,
          1.53,
          1.54,
          1.55,
          1.56,
          1.57,
          1.58,
          1.59,
          1.6,
          1.61,
          1.62,
          1.63,
          1.64,
          1.65,
          1.66,
          1.67,
          1.68,
          1.69,
          1.7,
          1.71,
          1.72,
          1.73,
          1.74,
          1.75,
          1.76,
          1.77,
          1.78,
          1.79,
          1.8,
          1.81,
          1.82,
          1.83,
          1.84,
          1.85,
          1.86,
          1.87,
          1.88,
          1.89,
          1.9,
          1.91,
          1.92,
          1.93,
          1.94,
          1.95,
          1.96,
          1.97,
          1.98,
          1.99,
          2,
          2.01,
          2.02,
          2.03,
          2.04,
          2.05,
          2.06,
          2.07,
          2.08,
          2.09,
          2.1,
          2.11,
          2.12,
          2.13,
          2.14,
          2.15,
          2.16,
          2.17,
          2.18,
          2.19,
          2.2,
          2.21,
          2.22,
          2.23,
          2.24,
          2.25,
          2.26,
          2.27,
          2.28,
          2.29,
          2.3,
          2.31,
          2.32,
          2.33,
          2.34,
          2.35,
          2.36,
          2.37,
          2.38,
          2.39,
          2.4,
          2.41,
          2.42,
          2.44,
          2.45,
          2.46,
          2.47,
          2.49,
          2.51,
          2.52,
          2.54,
          2.55,
          2.56,
          2.57,
          2.58,
          2.61,
          2.62,
          2.64,
          2.65,
          2.67,
          2.68,
          2.72,
          2.73,
          2.74,
          2.76,
          2.79,
          2.82,
          2.83,
          2.85,
          2.88,
          2.89,
          2.91,
          2.93,
          2.94,
          2.99,
          3.03,
          3.12,
          3.25
         ],
         "xaxis": "x",
         "y": [
          1,
          3,
          2,
          4,
          2,
          8,
          2,
          3,
          6,
          5,
          7,
          8,
          7,
          2,
          7,
          10,
          14,
          18,
          11,
          14,
          17,
          19,
          17,
          27,
          29,
          22,
          32,
          23,
          28,
          32,
          34,
          24,
          34,
          43,
          39,
          44,
          45,
          44,
          41,
          43,
          58,
          57,
          51,
          56,
          52,
          63,
          49,
          58,
          43,
          36,
          53,
          62,
          69,
          51,
          63,
          69,
          56,
          58,
          54,
          53,
          57,
          52,
          68,
          42,
          55,
          65,
          43,
          50,
          46,
          54,
          49,
          49,
          50,
          63,
          53,
          44,
          53,
          44,
          61,
          40,
          59,
          56,
          53,
          61,
          64,
          40,
          49,
          62,
          59,
          46,
          56,
          55,
          54,
          51,
          64,
          55,
          67,
          43,
          54,
          66,
          54,
          54,
          40,
          35,
          33,
          49,
          57,
          46,
          30,
          33,
          38,
          35,
          29,
          31,
          31,
          35,
          31,
          22,
          20,
          29,
          25,
          18,
          25,
          30,
          21,
          17,
          26,
          21,
          27,
          21,
          24,
          13,
          17,
          19,
          22,
          11,
          13,
          17,
          15,
          12,
          13,
          9,
          14,
          14,
          8,
          10,
          13,
          11,
          14,
          9,
          8,
          14,
          4,
          11,
          12,
          10,
          7,
          8,
          10,
          2,
          13,
          3,
          9,
          12,
          8,
          7,
          9,
          9,
          3,
          5,
          9,
          8,
          7,
          4,
          9,
          7,
          4,
          13,
          7,
          7,
          12,
          9,
          5,
          7,
          6,
          4,
          4,
          3,
          4,
          1,
          2,
          1,
          2,
          1,
          1,
          2,
          1,
          2,
          1,
          1,
          3,
          1,
          1,
          2,
          1,
          2,
          3,
          1,
          1,
          2,
          1,
          1,
          1,
          1,
          1,
          1,
          1,
          1,
          1,
          2,
          1,
          1,
          1,
          1,
          1
         ],
         "yaxis": "y"
        },
        {
         "hovertemplate": "year=2018<br>AveragePrice=%{x}<br>Volume=%{y}<extra></extra>",
         "legendgroup": "2018",
         "line": {
          "color": "#ab63fa",
          "dash": "solid"
         },
         "marker": {
          "symbol": "circle"
         },
         "mode": "lines",
         "name": "2018",
         "orientation": "v",
         "showlegend": true,
         "type": "scatter",
         "x": [
          0.56,
          0.58,
          0.59,
          0.61,
          0.64,
          0.65,
          0.67,
          0.68,
          0.7,
          0.71,
          0.72,
          0.73,
          0.74,
          0.75,
          0.76,
          0.77,
          0.78,
          0.79,
          0.8,
          0.81,
          0.82,
          0.83,
          0.84,
          0.85,
          0.86,
          0.87,
          0.88,
          0.89,
          0.9,
          0.91,
          0.92,
          0.93,
          0.94,
          0.95,
          0.96,
          0.97,
          0.98,
          0.99,
          1,
          1.01,
          1.02,
          1.03,
          1.04,
          1.05,
          1.06,
          1.07,
          1.08,
          1.09,
          1.1,
          1.11,
          1.12,
          1.13,
          1.14,
          1.15,
          1.16,
          1.17,
          1.18,
          1.19,
          1.2,
          1.21,
          1.22,
          1.23,
          1.24,
          1.25,
          1.26,
          1.27,
          1.28,
          1.29,
          1.3,
          1.31,
          1.32,
          1.33,
          1.34,
          1.35,
          1.36,
          1.37,
          1.38,
          1.39,
          1.4,
          1.41,
          1.42,
          1.43,
          1.44,
          1.45,
          1.46,
          1.47,
          1.48,
          1.49,
          1.5,
          1.51,
          1.52,
          1.53,
          1.54,
          1.55,
          1.56,
          1.57,
          1.58,
          1.59,
          1.6,
          1.61,
          1.62,
          1.63,
          1.64,
          1.65,
          1.66,
          1.67,
          1.68,
          1.69,
          1.7,
          1.71,
          1.72,
          1.73,
          1.74,
          1.75,
          1.76,
          1.77,
          1.78,
          1.79,
          1.8,
          1.81,
          1.82,
          1.83,
          1.85,
          1.86,
          1.87,
          1.88,
          1.89,
          1.9,
          1.91,
          1.92,
          1.93,
          1.94,
          1.95,
          1.97,
          1.98,
          1.99,
          2.01,
          2.02,
          2.03,
          2.04,
          2.05,
          2.06,
          2.07,
          2.09,
          2.1,
          2.11,
          2.12,
          2.15,
          2.16,
          2.18,
          2.22,
          2.25,
          2.27,
          2.3
         ],
         "xaxis": "x",
         "y": [
          2,
          2,
          3,
          1,
          1,
          1,
          3,
          2,
          2,
          3,
          2,
          3,
          1,
          1,
          4,
          2,
          3,
          3,
          5,
          3,
          4,
          3,
          5,
          5,
          5,
          6,
          9,
          5,
          4,
          5,
          7,
          6,
          2,
          5,
          8,
          6,
          11,
          10,
          9,
          14,
          12,
          14,
          14,
          13,
          14,
          13,
          18,
          7,
          12,
          8,
          13,
          13,
          16,
          19,
          19,
          12,
          19,
          16,
          16,
          10,
          17,
          17,
          11,
          16,
          9,
          16,
          14,
          8,
          18,
          16,
          21,
          10,
          21,
          16,
          25,
          9,
          20,
          11,
          16,
          22,
          21,
          25,
          11,
          16,
          15,
          11,
          16,
          10,
          14,
          11,
          11,
          14,
          12,
          17,
          17,
          14,
          10,
          12,
          13,
          6,
          14,
          12,
          11,
          4,
          13,
          7,
          8,
          13,
          5,
          5,
          8,
          8,
          6,
          11,
          7,
          5,
          7,
          4,
          9,
          5,
          8,
          11,
          5,
          4,
          3,
          5,
          2,
          4,
          6,
          5,
          2,
          1,
          2,
          4,
          2,
          3,
          1,
          4,
          2,
          1,
          2,
          1,
          1,
          1,
          1,
          1,
          1,
          1,
          1,
          1,
          1,
          2,
          1,
          1
         ],
         "yaxis": "y"
        }
       ],
       "layout": {
        "legend": {
         "title": {
          "text": "year"
         },
         "tracegroupgap": 0
        },
        "template": {
         "data": {
          "bar": [
           {
            "error_x": {
             "color": "#2a3f5f"
            },
            "error_y": {
             "color": "#2a3f5f"
            },
            "marker": {
             "line": {
              "color": "#E5ECF6",
              "width": 0.5
             },
             "pattern": {
              "fillmode": "overlay",
              "size": 10,
              "solidity": 0.2
             }
            },
            "type": "bar"
           }
          ],
          "barpolar": [
           {
            "marker": {
             "line": {
              "color": "#E5ECF6",
              "width": 0.5
             },
             "pattern": {
              "fillmode": "overlay",
              "size": 10,
              "solidity": 0.2
             }
            },
            "type": "barpolar"
           }
          ],
          "carpet": [
           {
            "aaxis": {
             "endlinecolor": "#2a3f5f",
             "gridcolor": "white",
             "linecolor": "white",
             "minorgridcolor": "white",
             "startlinecolor": "#2a3f5f"
            },
            "baxis": {
             "endlinecolor": "#2a3f5f",
             "gridcolor": "white",
             "linecolor": "white",
             "minorgridcolor": "white",
             "startlinecolor": "#2a3f5f"
            },
            "type": "carpet"
           }
          ],
          "choropleth": [
           {
            "colorbar": {
             "outlinewidth": 0,
             "ticks": ""
            },
            "type": "choropleth"
           }
          ],
          "contour": [
           {
            "colorbar": {
             "outlinewidth": 0,
             "ticks": ""
            },
            "colorscale": [
             [
              0,
              "#0d0887"
             ],
             [
              0.1111111111111111,
              "#46039f"
             ],
             [
              0.2222222222222222,
              "#7201a8"
             ],
             [
              0.3333333333333333,
              "#9c179e"
             ],
             [
              0.4444444444444444,
              "#bd3786"
             ],
             [
              0.5555555555555556,
              "#d8576b"
             ],
             [
              0.6666666666666666,
              "#ed7953"
             ],
             [
              0.7777777777777778,
              "#fb9f3a"
             ],
             [
              0.8888888888888888,
              "#fdca26"
             ],
             [
              1,
              "#f0f921"
             ]
            ],
            "type": "contour"
           }
          ],
          "contourcarpet": [
           {
            "colorbar": {
             "outlinewidth": 0,
             "ticks": ""
            },
            "type": "contourcarpet"
           }
          ],
          "heatmap": [
           {
            "colorbar": {
             "outlinewidth": 0,
             "ticks": ""
            },
            "colorscale": [
             [
              0,
              "#0d0887"
             ],
             [
              0.1111111111111111,
              "#46039f"
             ],
             [
              0.2222222222222222,
              "#7201a8"
             ],
             [
              0.3333333333333333,
              "#9c179e"
             ],
             [
              0.4444444444444444,
              "#bd3786"
             ],
             [
              0.5555555555555556,
              "#d8576b"
             ],
             [
              0.6666666666666666,
              "#ed7953"
             ],
             [
              0.7777777777777778,
              "#fb9f3a"
             ],
             [
              0.8888888888888888,
              "#fdca26"
             ],
             [
              1,
              "#f0f921"
             ]
            ],
            "type": "heatmap"
           }
          ],
          "heatmapgl": [
           {
            "colorbar": {
             "outlinewidth": 0,
             "ticks": ""
            },
            "colorscale": [
             [
              0,
              "#0d0887"
             ],
             [
              0.1111111111111111,
              "#46039f"
             ],
             [
              0.2222222222222222,
              "#7201a8"
             ],
             [
              0.3333333333333333,
              "#9c179e"
             ],
             [
              0.4444444444444444,
              "#bd3786"
             ],
             [
              0.5555555555555556,
              "#d8576b"
             ],
             [
              0.6666666666666666,
              "#ed7953"
             ],
             [
              0.7777777777777778,
              "#fb9f3a"
             ],
             [
              0.8888888888888888,
              "#fdca26"
             ],
             [
              1,
              "#f0f921"
             ]
            ],
            "type": "heatmapgl"
           }
          ],
          "histogram": [
           {
            "marker": {
             "pattern": {
              "fillmode": "overlay",
              "size": 10,
              "solidity": 0.2
             }
            },
            "type": "histogram"
           }
          ],
          "histogram2d": [
           {
            "colorbar": {
             "outlinewidth": 0,
             "ticks": ""
            },
            "colorscale": [
             [
              0,
              "#0d0887"
             ],
             [
              0.1111111111111111,
              "#46039f"
             ],
             [
              0.2222222222222222,
              "#7201a8"
             ],
             [
              0.3333333333333333,
              "#9c179e"
             ],
             [
              0.4444444444444444,
              "#bd3786"
             ],
             [
              0.5555555555555556,
              "#d8576b"
             ],
             [
              0.6666666666666666,
              "#ed7953"
             ],
             [
              0.7777777777777778,
              "#fb9f3a"
             ],
             [
              0.8888888888888888,
              "#fdca26"
             ],
             [
              1,
              "#f0f921"
             ]
            ],
            "type": "histogram2d"
           }
          ],
          "histogram2dcontour": [
           {
            "colorbar": {
             "outlinewidth": 0,
             "ticks": ""
            },
            "colorscale": [
             [
              0,
              "#0d0887"
             ],
             [
              0.1111111111111111,
              "#46039f"
             ],
             [
              0.2222222222222222,
              "#7201a8"
             ],
             [
              0.3333333333333333,
              "#9c179e"
             ],
             [
              0.4444444444444444,
              "#bd3786"
             ],
             [
              0.5555555555555556,
              "#d8576b"
             ],
             [
              0.6666666666666666,
              "#ed7953"
             ],
             [
              0.7777777777777778,
              "#fb9f3a"
             ],
             [
              0.8888888888888888,
              "#fdca26"
             ],
             [
              1,
              "#f0f921"
             ]
            ],
            "type": "histogram2dcontour"
           }
          ],
          "mesh3d": [
           {
            "colorbar": {
             "outlinewidth": 0,
             "ticks": ""
            },
            "type": "mesh3d"
           }
          ],
          "parcoords": [
           {
            "line": {
             "colorbar": {
              "outlinewidth": 0,
              "ticks": ""
             }
            },
            "type": "parcoords"
           }
          ],
          "pie": [
           {
            "automargin": true,
            "type": "pie"
           }
          ],
          "scatter": [
           {
            "marker": {
             "colorbar": {
              "outlinewidth": 0,
              "ticks": ""
             }
            },
            "type": "scatter"
           }
          ],
          "scatter3d": [
           {
            "line": {
             "colorbar": {
              "outlinewidth": 0,
              "ticks": ""
             }
            },
            "marker": {
             "colorbar": {
              "outlinewidth": 0,
              "ticks": ""
             }
            },
            "type": "scatter3d"
           }
          ],
          "scattercarpet": [
           {
            "marker": {
             "colorbar": {
              "outlinewidth": 0,
              "ticks": ""
             }
            },
            "type": "scattercarpet"
           }
          ],
          "scattergeo": [
           {
            "marker": {
             "colorbar": {
              "outlinewidth": 0,
              "ticks": ""
             }
            },
            "type": "scattergeo"
           }
          ],
          "scattergl": [
           {
            "marker": {
             "colorbar": {
              "outlinewidth": 0,
              "ticks": ""
             }
            },
            "type": "scattergl"
           }
          ],
          "scattermapbox": [
           {
            "marker": {
             "colorbar": {
              "outlinewidth": 0,
              "ticks": ""
             }
            },
            "type": "scattermapbox"
           }
          ],
          "scatterpolar": [
           {
            "marker": {
             "colorbar": {
              "outlinewidth": 0,
              "ticks": ""
             }
            },
            "type": "scatterpolar"
           }
          ],
          "scatterpolargl": [
           {
            "marker": {
             "colorbar": {
              "outlinewidth": 0,
              "ticks": ""
             }
            },
            "type": "scatterpolargl"
           }
          ],
          "scatterternary": [
           {
            "marker": {
             "colorbar": {
              "outlinewidth": 0,
              "ticks": ""
             }
            },
            "type": "scatterternary"
           }
          ],
          "surface": [
           {
            "colorbar": {
             "outlinewidth": 0,
             "ticks": ""
            },
            "colorscale": [
             [
              0,
              "#0d0887"
             ],
             [
              0.1111111111111111,
              "#46039f"
             ],
             [
              0.2222222222222222,
              "#7201a8"
             ],
             [
              0.3333333333333333,
              "#9c179e"
             ],
             [
              0.4444444444444444,
              "#bd3786"
             ],
             [
              0.5555555555555556,
              "#d8576b"
             ],
             [
              0.6666666666666666,
              "#ed7953"
             ],
             [
              0.7777777777777778,
              "#fb9f3a"
             ],
             [
              0.8888888888888888,
              "#fdca26"
             ],
             [
              1,
              "#f0f921"
             ]
            ],
            "type": "surface"
           }
          ],
          "table": [
           {
            "cells": {
             "fill": {
              "color": "#EBF0F8"
             },
             "line": {
              "color": "white"
             }
            },
            "header": {
             "fill": {
              "color": "#C8D4E3"
             },
             "line": {
              "color": "white"
             }
            },
            "type": "table"
           }
          ]
         },
         "layout": {
          "annotationdefaults": {
           "arrowcolor": "#2a3f5f",
           "arrowhead": 0,
           "arrowwidth": 1
          },
          "autotypenumbers": "strict",
          "coloraxis": {
           "colorbar": {
            "outlinewidth": 0,
            "ticks": ""
           }
          },
          "colorscale": {
           "diverging": [
            [
             0,
             "#8e0152"
            ],
            [
             0.1,
             "#c51b7d"
            ],
            [
             0.2,
             "#de77ae"
            ],
            [
             0.3,
             "#f1b6da"
            ],
            [
             0.4,
             "#fde0ef"
            ],
            [
             0.5,
             "#f7f7f7"
            ],
            [
             0.6,
             "#e6f5d0"
            ],
            [
             0.7,
             "#b8e186"
            ],
            [
             0.8,
             "#7fbc41"
            ],
            [
             0.9,
             "#4d9221"
            ],
            [
             1,
             "#276419"
            ]
           ],
           "sequential": [
            [
             0,
             "#0d0887"
            ],
            [
             0.1111111111111111,
             "#46039f"
            ],
            [
             0.2222222222222222,
             "#7201a8"
            ],
            [
             0.3333333333333333,
             "#9c179e"
            ],
            [
             0.4444444444444444,
             "#bd3786"
            ],
            [
             0.5555555555555556,
             "#d8576b"
            ],
            [
             0.6666666666666666,
             "#ed7953"
            ],
            [
             0.7777777777777778,
             "#fb9f3a"
            ],
            [
             0.8888888888888888,
             "#fdca26"
            ],
            [
             1,
             "#f0f921"
            ]
           ],
           "sequentialminus": [
            [
             0,
             "#0d0887"
            ],
            [
             0.1111111111111111,
             "#46039f"
            ],
            [
             0.2222222222222222,
             "#7201a8"
            ],
            [
             0.3333333333333333,
             "#9c179e"
            ],
            [
             0.4444444444444444,
             "#bd3786"
            ],
            [
             0.5555555555555556,
             "#d8576b"
            ],
            [
             0.6666666666666666,
             "#ed7953"
            ],
            [
             0.7777777777777778,
             "#fb9f3a"
            ],
            [
             0.8888888888888888,
             "#fdca26"
            ],
            [
             1,
             "#f0f921"
            ]
           ]
          },
          "colorway": [
           "#636efa",
           "#EF553B",
           "#00cc96",
           "#ab63fa",
           "#FFA15A",
           "#19d3f3",
           "#FF6692",
           "#B6E880",
           "#FF97FF",
           "#FECB52"
          ],
          "font": {
           "color": "#2a3f5f"
          },
          "geo": {
           "bgcolor": "white",
           "lakecolor": "white",
           "landcolor": "#E5ECF6",
           "showlakes": true,
           "showland": true,
           "subunitcolor": "white"
          },
          "hoverlabel": {
           "align": "left"
          },
          "hovermode": "closest",
          "mapbox": {
           "style": "light"
          },
          "paper_bgcolor": "white",
          "plot_bgcolor": "#E5ECF6",
          "polar": {
           "angularaxis": {
            "gridcolor": "white",
            "linecolor": "white",
            "ticks": ""
           },
           "bgcolor": "#E5ECF6",
           "radialaxis": {
            "gridcolor": "white",
            "linecolor": "white",
            "ticks": ""
           }
          },
          "scene": {
           "xaxis": {
            "backgroundcolor": "#E5ECF6",
            "gridcolor": "white",
            "gridwidth": 2,
            "linecolor": "white",
            "showbackground": true,
            "ticks": "",
            "zerolinecolor": "white"
           },
           "yaxis": {
            "backgroundcolor": "#E5ECF6",
            "gridcolor": "white",
            "gridwidth": 2,
            "linecolor": "white",
            "showbackground": true,
            "ticks": "",
            "zerolinecolor": "white"
           },
           "zaxis": {
            "backgroundcolor": "#E5ECF6",
            "gridcolor": "white",
            "gridwidth": 2,
            "linecolor": "white",
            "showbackground": true,
            "ticks": "",
            "zerolinecolor": "white"
           }
          },
          "shapedefaults": {
           "line": {
            "color": "#2a3f5f"
           }
          },
          "ternary": {
           "aaxis": {
            "gridcolor": "white",
            "linecolor": "white",
            "ticks": ""
           },
           "baxis": {
            "gridcolor": "white",
            "linecolor": "white",
            "ticks": ""
           },
           "bgcolor": "#E5ECF6",
           "caxis": {
            "gridcolor": "white",
            "linecolor": "white",
            "ticks": ""
           }
          },
          "title": {
           "x": 0.05
          },
          "xaxis": {
           "automargin": true,
           "gridcolor": "white",
           "linecolor": "white",
           "ticks": "",
           "title": {
            "standoff": 15
           },
           "zerolinecolor": "white",
           "zerolinewidth": 2
          },
          "yaxis": {
           "automargin": true,
           "gridcolor": "white",
           "linecolor": "white",
           "ticks": "",
           "title": {
            "standoff": 15
           },
           "zerolinecolor": "white",
           "zerolinewidth": 2
          }
         }
        },
        "title": {
         "text": "Average Price of Avacados by Volume for year 2015 and 2016  "
        },
        "xaxis": {
         "anchor": "y",
         "domain": [
          0,
          1
         ],
         "title": {
          "text": "AveragePrice"
         }
        },
        "yaxis": {
         "anchor": "x",
         "domain": [
          0,
          1
         ],
         "title": {
          "text": "Volume"
         }
        }
       }
      },
      "text/html": [
       "<div>                            <div id=\"222f78ad-a26f-4875-b776-93bb349550a9\" class=\"plotly-graph-div\" style=\"height:525px; width:100%;\"></div>            <script type=\"text/javascript\">                require([\"plotly\"], function(Plotly) {                    window.PLOTLYENV=window.PLOTLYENV || {};                                    if (document.getElementById(\"222f78ad-a26f-4875-b776-93bb349550a9\")) {                    Plotly.newPlot(                        \"222f78ad-a26f-4875-b776-93bb349550a9\",                        [{\"hovertemplate\":\"year=2017<br>AveragePrice=%{x}<br>Volume=%{y}<extra></extra>\",\"legendgroup\":\"2017\",\"line\":{\"color\":\"#636efa\",\"dash\":\"solid\"},\"marker\":{\"symbol\":\"circle\"},\"mode\":\"lines\",\"name\":\"2017\",\"orientation\":\"v\",\"showlegend\":true,\"x\":[0.44,0.46,0.48,0.49,0.51,0.52,0.53,0.54,0.55,0.56,0.57,0.58,0.6,0.61,0.62,0.63,0.64,0.65,0.66,0.67,0.68,0.69,0.7,0.71,0.72,0.73,0.74,0.75,0.76,0.77,0.78,0.79,0.8,0.81,0.82,0.83,0.84,0.85,0.86,0.87,0.88,0.89,0.9,0.91,0.92,0.93,0.94,0.95,0.96,0.97,0.98,0.99,1.0,1.01,1.02,1.03,1.04,1.05,1.06,1.07,1.08,1.09,1.1,1.11,1.12,1.13,1.14,1.15,1.16,1.17,1.18,1.19,1.2,1.21,1.22,1.23,1.24,1.25,1.26,1.27,1.28,1.29,1.3,1.31,1.32,1.33,1.34,1.35,1.36,1.37,1.38,1.39,1.4,1.41,1.42,1.43,1.44,1.45,1.46,1.47,1.48,1.49,1.5,1.51,1.52,1.53,1.54,1.55,1.56,1.57,1.58,1.59,1.6,1.61,1.62,1.63,1.64,1.65,1.66,1.67,1.68,1.69,1.7,1.71,1.72,1.73,1.74,1.75,1.76,1.77,1.78,1.79,1.8,1.81,1.82,1.83,1.84,1.85,1.86,1.87,1.88,1.89,1.9,1.91,1.92,1.93,1.94,1.95,1.96,1.97,1.98,1.99,2.0,2.01,2.02,2.03,2.04,2.05,2.06,2.07,2.08,2.09,2.1,2.11,2.12,2.13,2.14,2.15,2.16,2.17,2.18,2.19,2.2,2.21,2.22,2.23,2.24,2.25,2.26,2.27,2.28,2.29,2.3,2.31,2.32,2.33,2.34,2.35,2.36,2.37,2.38,2.39,2.4,2.41,2.42,2.43,2.44,2.45,2.46,2.47,2.48,2.49,2.5,2.51,2.52,2.53,2.54,2.55,2.56,2.57,2.58,2.59,2.6,2.61,2.62,2.63,2.64,2.65,2.66,2.67,2.69,2.7,2.71,2.72,2.73,2.74,2.75,2.76,2.77,2.78,2.79,2.8,2.81,2.82,2.83,2.84,2.85,2.86,2.87,2.88,2.89,2.9,2.92,2.93,2.94,2.95,2.96,2.97,2.99,3.0,3.04,3.05,3.17],\"xaxis\":\"x\",\"y\":[1,1,1,1,3,2,3,3,1,2,5,2,5,2,3,2,7,12,4,7,11,3,17,1,6,10,12,12,17,19,10,11,10,13,9,19,25,22,17,17,14,20,26,19,21,34,28,29,25,21,32,45,27,34,41,27,31,25,36,26,30,26,24,30,27,50,46,44,40,40,53,53,36,41,33,57,38,45,60,40,51,54,50,41,46,51,54,45,50,53,67,53,58,59,55,61,61,57,54,46,69,61,60,47,47,47,69,52,64,55,50,69,58,54,58,48,54,40,45,58,51,41,50,36,48,39,52,36,46,31,42,39,46,45,45,36,31,33,31,20,37,36,26,24,20,27,25,23,22,24,17,20,28,19,19,17,19,21,32,23,19,26,14,16,15,16,16,18,11,17,14,13,10,12,12,8,6,11,9,7,3,9,3,8,11,10,6,7,8,10,7,8,7,2,4,10,8,6,5,3,8,4,6,4,3,2,7,8,4,7,7,9,2,5,6,2,4,6,2,4,2,3,3,1,3,1,2,3,2,1,1,2,3,2,5,4,3,4,3,2,2,1,2,2,1,1,1,1,1,2,1,1,1],\"yaxis\":\"y\",\"type\":\"scatter\"},{\"hovertemplate\":\"year=2015<br>AveragePrice=%{x}<br>Volume=%{y}<extra></extra>\",\"legendgroup\":\"2015\",\"line\":{\"color\":\"#EF553B\",\"dash\":\"solid\"},\"marker\":{\"symbol\":\"circle\"},\"mode\":\"lines\",\"name\":\"2015\",\"orientation\":\"v\",\"showlegend\":true,\"x\":[0.49,0.51,0.52,0.53,0.54,0.56,0.57,0.58,0.6,0.61,0.62,0.63,0.64,0.65,0.66,0.67,0.68,0.69,0.7,0.71,0.72,0.73,0.74,0.75,0.76,0.77,0.78,0.79,0.8,0.81,0.82,0.83,0.84,0.85,0.86,0.87,0.88,0.89,0.9,0.91,0.92,0.93,0.94,0.95,0.96,0.97,0.98,0.99,1.0,1.01,1.02,1.03,1.04,1.05,1.06,1.07,1.08,1.09,1.1,1.11,1.12,1.13,1.14,1.15,1.16,1.17,1.18,1.19,1.2,1.21,1.22,1.23,1.24,1.25,1.26,1.27,1.28,1.29,1.3,1.31,1.32,1.33,1.34,1.35,1.36,1.37,1.38,1.39,1.4,1.41,1.42,1.43,1.44,1.45,1.46,1.47,1.48,1.49,1.5,1.51,1.52,1.53,1.54,1.55,1.56,1.57,1.58,1.59,1.6,1.61,1.62,1.63,1.64,1.65,1.66,1.67,1.68,1.69,1.7,1.71,1.72,1.73,1.74,1.75,1.76,1.77,1.78,1.79,1.8,1.81,1.82,1.83,1.84,1.85,1.86,1.87,1.88,1.89,1.9,1.91,1.92,1.93,1.94,1.95,1.96,1.97,1.98,1.99,2.0,2.01,2.02,2.03,2.04,2.05,2.06,2.07,2.08,2.09,2.1,2.11,2.12,2.13,2.14,2.15,2.16,2.17,2.18,2.19,2.2,2.21,2.22,2.23,2.24,2.25,2.26,2.27,2.28,2.29,2.3,2.31,2.32,2.33,2.34,2.35,2.36,2.37,2.38,2.39,2.4,2.41,2.42,2.45,2.58,2.59,2.66,2.71,2.72,2.73,2.74,2.75,2.76,2.77,2.79],\"xaxis\":\"x\",\"y\":[1,1,1,3,1,4,2,2,4,2,2,1,1,3,4,6,3,1,7,13,8,8,18,13,13,15,18,21,22,16,21,25,10,18,8,15,21,28,20,27,30,43,36,42,54,68,83,81,73,68,71,85,67,71,69,66,77,78,67,77,65,72,66,71,67,67,62,76,53,54,63,58,67,59,61,46,38,34,28,21,30,39,33,49,51,33,28,35,39,27,27,43,45,30,30,39,45,42,53,36,37,45,38,54,35,32,37,48,42,35,34,38,33,50,52,33,44,42,38,24,32,24,30,33,32,28,31,43,40,42,51,44,44,47,36,39,41,29,36,28,44,37,28,20,23,18,21,13,20,25,22,12,8,11,15,12,9,13,3,10,8,6,7,5,6,4,10,4,2,7,2,2,8,2,2,3,3,3,3,9,2,2,4,2,3,2,2,2,3,1,1,1,1,1,1,1,1,3,1,1,1,1,2],\"yaxis\":\"y\",\"type\":\"scatter\"},{\"hovertemplate\":\"year=2016<br>AveragePrice=%{x}<br>Volume=%{y}<extra></extra>\",\"legendgroup\":\"2016\",\"line\":{\"color\":\"#00cc96\",\"dash\":\"solid\"},\"marker\":{\"symbol\":\"circle\"},\"mode\":\"lines\",\"name\":\"2016\",\"orientation\":\"v\",\"showlegend\":true,\"x\":[0.51,0.54,0.55,0.56,0.57,0.58,0.59,0.6,0.61,0.62,0.63,0.64,0.65,0.66,0.67,0.68,0.69,0.7,0.71,0.72,0.73,0.74,0.75,0.76,0.77,0.78,0.79,0.8,0.81,0.82,0.83,0.84,0.85,0.86,0.87,0.88,0.89,0.9,0.91,0.92,0.93,0.94,0.95,0.96,0.97,0.98,0.99,1.0,1.01,1.02,1.03,1.04,1.05,1.06,1.07,1.08,1.09,1.1,1.11,1.12,1.13,1.14,1.15,1.16,1.17,1.18,1.19,1.2,1.21,1.22,1.23,1.24,1.25,1.26,1.27,1.28,1.29,1.3,1.31,1.32,1.33,1.34,1.35,1.36,1.37,1.38,1.39,1.4,1.41,1.42,1.43,1.44,1.45,1.46,1.47,1.48,1.49,1.5,1.51,1.52,1.53,1.54,1.55,1.56,1.57,1.58,1.59,1.6,1.61,1.62,1.63,1.64,1.65,1.66,1.67,1.68,1.69,1.7,1.71,1.72,1.73,1.74,1.75,1.76,1.77,1.78,1.79,1.8,1.81,1.82,1.83,1.84,1.85,1.86,1.87,1.88,1.89,1.9,1.91,1.92,1.93,1.94,1.95,1.96,1.97,1.98,1.99,2.0,2.01,2.02,2.03,2.04,2.05,2.06,2.07,2.08,2.09,2.1,2.11,2.12,2.13,2.14,2.15,2.16,2.17,2.18,2.19,2.2,2.21,2.22,2.23,2.24,2.25,2.26,2.27,2.28,2.29,2.3,2.31,2.32,2.33,2.34,2.35,2.36,2.37,2.38,2.39,2.4,2.41,2.42,2.44,2.45,2.46,2.47,2.49,2.51,2.52,2.54,2.55,2.56,2.57,2.58,2.61,2.62,2.64,2.65,2.67,2.68,2.72,2.73,2.74,2.76,2.79,2.82,2.83,2.85,2.88,2.89,2.91,2.93,2.94,2.99,3.03,3.12,3.25],\"xaxis\":\"x\",\"y\":[1,3,2,4,2,8,2,3,6,5,7,8,7,2,7,10,14,18,11,14,17,19,17,27,29,22,32,23,28,32,34,24,34,43,39,44,45,44,41,43,58,57,51,56,52,63,49,58,43,36,53,62,69,51,63,69,56,58,54,53,57,52,68,42,55,65,43,50,46,54,49,49,50,63,53,44,53,44,61,40,59,56,53,61,64,40,49,62,59,46,56,55,54,51,64,55,67,43,54,66,54,54,40,35,33,49,57,46,30,33,38,35,29,31,31,35,31,22,20,29,25,18,25,30,21,17,26,21,27,21,24,13,17,19,22,11,13,17,15,12,13,9,14,14,8,10,13,11,14,9,8,14,4,11,12,10,7,8,10,2,13,3,9,12,8,7,9,9,3,5,9,8,7,4,9,7,4,13,7,7,12,9,5,7,6,4,4,3,4,1,2,1,2,1,1,2,1,2,1,1,3,1,1,2,1,2,3,1,1,2,1,1,1,1,1,1,1,1,1,2,1,1,1,1,1],\"yaxis\":\"y\",\"type\":\"scatter\"},{\"hovertemplate\":\"year=2018<br>AveragePrice=%{x}<br>Volume=%{y}<extra></extra>\",\"legendgroup\":\"2018\",\"line\":{\"color\":\"#ab63fa\",\"dash\":\"solid\"},\"marker\":{\"symbol\":\"circle\"},\"mode\":\"lines\",\"name\":\"2018\",\"orientation\":\"v\",\"showlegend\":true,\"x\":[0.56,0.58,0.59,0.61,0.64,0.65,0.67,0.68,0.7,0.71,0.72,0.73,0.74,0.75,0.76,0.77,0.78,0.79,0.8,0.81,0.82,0.83,0.84,0.85,0.86,0.87,0.88,0.89,0.9,0.91,0.92,0.93,0.94,0.95,0.96,0.97,0.98,0.99,1.0,1.01,1.02,1.03,1.04,1.05,1.06,1.07,1.08,1.09,1.1,1.11,1.12,1.13,1.14,1.15,1.16,1.17,1.18,1.19,1.2,1.21,1.22,1.23,1.24,1.25,1.26,1.27,1.28,1.29,1.3,1.31,1.32,1.33,1.34,1.35,1.36,1.37,1.38,1.39,1.4,1.41,1.42,1.43,1.44,1.45,1.46,1.47,1.48,1.49,1.5,1.51,1.52,1.53,1.54,1.55,1.56,1.57,1.58,1.59,1.6,1.61,1.62,1.63,1.64,1.65,1.66,1.67,1.68,1.69,1.7,1.71,1.72,1.73,1.74,1.75,1.76,1.77,1.78,1.79,1.8,1.81,1.82,1.83,1.85,1.86,1.87,1.88,1.89,1.9,1.91,1.92,1.93,1.94,1.95,1.97,1.98,1.99,2.01,2.02,2.03,2.04,2.05,2.06,2.07,2.09,2.1,2.11,2.12,2.15,2.16,2.18,2.22,2.25,2.27,2.3],\"xaxis\":\"x\",\"y\":[2,2,3,1,1,1,3,2,2,3,2,3,1,1,4,2,3,3,5,3,4,3,5,5,5,6,9,5,4,5,7,6,2,5,8,6,11,10,9,14,12,14,14,13,14,13,18,7,12,8,13,13,16,19,19,12,19,16,16,10,17,17,11,16,9,16,14,8,18,16,21,10,21,16,25,9,20,11,16,22,21,25,11,16,15,11,16,10,14,11,11,14,12,17,17,14,10,12,13,6,14,12,11,4,13,7,8,13,5,5,8,8,6,11,7,5,7,4,9,5,8,11,5,4,3,5,2,4,6,5,2,1,2,4,2,3,1,4,2,1,2,1,1,1,1,1,1,1,1,1,1,2,1,1],\"yaxis\":\"y\",\"type\":\"scatter\"}],                        {\"template\":{\"data\":{\"bar\":[{\"error_x\":{\"color\":\"#2a3f5f\"},\"error_y\":{\"color\":\"#2a3f5f\"},\"marker\":{\"line\":{\"color\":\"#E5ECF6\",\"width\":0.5},\"pattern\":{\"fillmode\":\"overlay\",\"size\":10,\"solidity\":0.2}},\"type\":\"bar\"}],\"barpolar\":[{\"marker\":{\"line\":{\"color\":\"#E5ECF6\",\"width\":0.5},\"pattern\":{\"fillmode\":\"overlay\",\"size\":10,\"solidity\":0.2}},\"type\":\"barpolar\"}],\"carpet\":[{\"aaxis\":{\"endlinecolor\":\"#2a3f5f\",\"gridcolor\":\"white\",\"linecolor\":\"white\",\"minorgridcolor\":\"white\",\"startlinecolor\":\"#2a3f5f\"},\"baxis\":{\"endlinecolor\":\"#2a3f5f\",\"gridcolor\":\"white\",\"linecolor\":\"white\",\"minorgridcolor\":\"white\",\"startlinecolor\":\"#2a3f5f\"},\"type\":\"carpet\"}],\"choropleth\":[{\"colorbar\":{\"outlinewidth\":0,\"ticks\":\"\"},\"type\":\"choropleth\"}],\"contour\":[{\"colorbar\":{\"outlinewidth\":0,\"ticks\":\"\"},\"colorscale\":[[0.0,\"#0d0887\"],[0.1111111111111111,\"#46039f\"],[0.2222222222222222,\"#7201a8\"],[0.3333333333333333,\"#9c179e\"],[0.4444444444444444,\"#bd3786\"],[0.5555555555555556,\"#d8576b\"],[0.6666666666666666,\"#ed7953\"],[0.7777777777777778,\"#fb9f3a\"],[0.8888888888888888,\"#fdca26\"],[1.0,\"#f0f921\"]],\"type\":\"contour\"}],\"contourcarpet\":[{\"colorbar\":{\"outlinewidth\":0,\"ticks\":\"\"},\"type\":\"contourcarpet\"}],\"heatmap\":[{\"colorbar\":{\"outlinewidth\":0,\"ticks\":\"\"},\"colorscale\":[[0.0,\"#0d0887\"],[0.1111111111111111,\"#46039f\"],[0.2222222222222222,\"#7201a8\"],[0.3333333333333333,\"#9c179e\"],[0.4444444444444444,\"#bd3786\"],[0.5555555555555556,\"#d8576b\"],[0.6666666666666666,\"#ed7953\"],[0.7777777777777778,\"#fb9f3a\"],[0.8888888888888888,\"#fdca26\"],[1.0,\"#f0f921\"]],\"type\":\"heatmap\"}],\"heatmapgl\":[{\"colorbar\":{\"outlinewidth\":0,\"ticks\":\"\"},\"colorscale\":[[0.0,\"#0d0887\"],[0.1111111111111111,\"#46039f\"],[0.2222222222222222,\"#7201a8\"],[0.3333333333333333,\"#9c179e\"],[0.4444444444444444,\"#bd3786\"],[0.5555555555555556,\"#d8576b\"],[0.6666666666666666,\"#ed7953\"],[0.7777777777777778,\"#fb9f3a\"],[0.8888888888888888,\"#fdca26\"],[1.0,\"#f0f921\"]],\"type\":\"heatmapgl\"}],\"histogram\":[{\"marker\":{\"pattern\":{\"fillmode\":\"overlay\",\"size\":10,\"solidity\":0.2}},\"type\":\"histogram\"}],\"histogram2d\":[{\"colorbar\":{\"outlinewidth\":0,\"ticks\":\"\"},\"colorscale\":[[0.0,\"#0d0887\"],[0.1111111111111111,\"#46039f\"],[0.2222222222222222,\"#7201a8\"],[0.3333333333333333,\"#9c179e\"],[0.4444444444444444,\"#bd3786\"],[0.5555555555555556,\"#d8576b\"],[0.6666666666666666,\"#ed7953\"],[0.7777777777777778,\"#fb9f3a\"],[0.8888888888888888,\"#fdca26\"],[1.0,\"#f0f921\"]],\"type\":\"histogram2d\"}],\"histogram2dcontour\":[{\"colorbar\":{\"outlinewidth\":0,\"ticks\":\"\"},\"colorscale\":[[0.0,\"#0d0887\"],[0.1111111111111111,\"#46039f\"],[0.2222222222222222,\"#7201a8\"],[0.3333333333333333,\"#9c179e\"],[0.4444444444444444,\"#bd3786\"],[0.5555555555555556,\"#d8576b\"],[0.6666666666666666,\"#ed7953\"],[0.7777777777777778,\"#fb9f3a\"],[0.8888888888888888,\"#fdca26\"],[1.0,\"#f0f921\"]],\"type\":\"histogram2dcontour\"}],\"mesh3d\":[{\"colorbar\":{\"outlinewidth\":0,\"ticks\":\"\"},\"type\":\"mesh3d\"}],\"parcoords\":[{\"line\":{\"colorbar\":{\"outlinewidth\":0,\"ticks\":\"\"}},\"type\":\"parcoords\"}],\"pie\":[{\"automargin\":true,\"type\":\"pie\"}],\"scatter\":[{\"marker\":{\"colorbar\":{\"outlinewidth\":0,\"ticks\":\"\"}},\"type\":\"scatter\"}],\"scatter3d\":[{\"line\":{\"colorbar\":{\"outlinewidth\":0,\"ticks\":\"\"}},\"marker\":{\"colorbar\":{\"outlinewidth\":0,\"ticks\":\"\"}},\"type\":\"scatter3d\"}],\"scattercarpet\":[{\"marker\":{\"colorbar\":{\"outlinewidth\":0,\"ticks\":\"\"}},\"type\":\"scattercarpet\"}],\"scattergeo\":[{\"marker\":{\"colorbar\":{\"outlinewidth\":0,\"ticks\":\"\"}},\"type\":\"scattergeo\"}],\"scattergl\":[{\"marker\":{\"colorbar\":{\"outlinewidth\":0,\"ticks\":\"\"}},\"type\":\"scattergl\"}],\"scattermapbox\":[{\"marker\":{\"colorbar\":{\"outlinewidth\":0,\"ticks\":\"\"}},\"type\":\"scattermapbox\"}],\"scatterpolar\":[{\"marker\":{\"colorbar\":{\"outlinewidth\":0,\"ticks\":\"\"}},\"type\":\"scatterpolar\"}],\"scatterpolargl\":[{\"marker\":{\"colorbar\":{\"outlinewidth\":0,\"ticks\":\"\"}},\"type\":\"scatterpolargl\"}],\"scatterternary\":[{\"marker\":{\"colorbar\":{\"outlinewidth\":0,\"ticks\":\"\"}},\"type\":\"scatterternary\"}],\"surface\":[{\"colorbar\":{\"outlinewidth\":0,\"ticks\":\"\"},\"colorscale\":[[0.0,\"#0d0887\"],[0.1111111111111111,\"#46039f\"],[0.2222222222222222,\"#7201a8\"],[0.3333333333333333,\"#9c179e\"],[0.4444444444444444,\"#bd3786\"],[0.5555555555555556,\"#d8576b\"],[0.6666666666666666,\"#ed7953\"],[0.7777777777777778,\"#fb9f3a\"],[0.8888888888888888,\"#fdca26\"],[1.0,\"#f0f921\"]],\"type\":\"surface\"}],\"table\":[{\"cells\":{\"fill\":{\"color\":\"#EBF0F8\"},\"line\":{\"color\":\"white\"}},\"header\":{\"fill\":{\"color\":\"#C8D4E3\"},\"line\":{\"color\":\"white\"}},\"type\":\"table\"}]},\"layout\":{\"annotationdefaults\":{\"arrowcolor\":\"#2a3f5f\",\"arrowhead\":0,\"arrowwidth\":1},\"autotypenumbers\":\"strict\",\"coloraxis\":{\"colorbar\":{\"outlinewidth\":0,\"ticks\":\"\"}},\"colorscale\":{\"diverging\":[[0,\"#8e0152\"],[0.1,\"#c51b7d\"],[0.2,\"#de77ae\"],[0.3,\"#f1b6da\"],[0.4,\"#fde0ef\"],[0.5,\"#f7f7f7\"],[0.6,\"#e6f5d0\"],[0.7,\"#b8e186\"],[0.8,\"#7fbc41\"],[0.9,\"#4d9221\"],[1,\"#276419\"]],\"sequential\":[[0.0,\"#0d0887\"],[0.1111111111111111,\"#46039f\"],[0.2222222222222222,\"#7201a8\"],[0.3333333333333333,\"#9c179e\"],[0.4444444444444444,\"#bd3786\"],[0.5555555555555556,\"#d8576b\"],[0.6666666666666666,\"#ed7953\"],[0.7777777777777778,\"#fb9f3a\"],[0.8888888888888888,\"#fdca26\"],[1.0,\"#f0f921\"]],\"sequentialminus\":[[0.0,\"#0d0887\"],[0.1111111111111111,\"#46039f\"],[0.2222222222222222,\"#7201a8\"],[0.3333333333333333,\"#9c179e\"],[0.4444444444444444,\"#bd3786\"],[0.5555555555555556,\"#d8576b\"],[0.6666666666666666,\"#ed7953\"],[0.7777777777777778,\"#fb9f3a\"],[0.8888888888888888,\"#fdca26\"],[1.0,\"#f0f921\"]]},\"colorway\":[\"#636efa\",\"#EF553B\",\"#00cc96\",\"#ab63fa\",\"#FFA15A\",\"#19d3f3\",\"#FF6692\",\"#B6E880\",\"#FF97FF\",\"#FECB52\"],\"font\":{\"color\":\"#2a3f5f\"},\"geo\":{\"bgcolor\":\"white\",\"lakecolor\":\"white\",\"landcolor\":\"#E5ECF6\",\"showlakes\":true,\"showland\":true,\"subunitcolor\":\"white\"},\"hoverlabel\":{\"align\":\"left\"},\"hovermode\":\"closest\",\"mapbox\":{\"style\":\"light\"},\"paper_bgcolor\":\"white\",\"plot_bgcolor\":\"#E5ECF6\",\"polar\":{\"angularaxis\":{\"gridcolor\":\"white\",\"linecolor\":\"white\",\"ticks\":\"\"},\"bgcolor\":\"#E5ECF6\",\"radialaxis\":{\"gridcolor\":\"white\",\"linecolor\":\"white\",\"ticks\":\"\"}},\"scene\":{\"xaxis\":{\"backgroundcolor\":\"#E5ECF6\",\"gridcolor\":\"white\",\"gridwidth\":2,\"linecolor\":\"white\",\"showbackground\":true,\"ticks\":\"\",\"zerolinecolor\":\"white\"},\"yaxis\":{\"backgroundcolor\":\"#E5ECF6\",\"gridcolor\":\"white\",\"gridwidth\":2,\"linecolor\":\"white\",\"showbackground\":true,\"ticks\":\"\",\"zerolinecolor\":\"white\"},\"zaxis\":{\"backgroundcolor\":\"#E5ECF6\",\"gridcolor\":\"white\",\"gridwidth\":2,\"linecolor\":\"white\",\"showbackground\":true,\"ticks\":\"\",\"zerolinecolor\":\"white\"}},\"shapedefaults\":{\"line\":{\"color\":\"#2a3f5f\"}},\"ternary\":{\"aaxis\":{\"gridcolor\":\"white\",\"linecolor\":\"white\",\"ticks\":\"\"},\"baxis\":{\"gridcolor\":\"white\",\"linecolor\":\"white\",\"ticks\":\"\"},\"bgcolor\":\"#E5ECF6\",\"caxis\":{\"gridcolor\":\"white\",\"linecolor\":\"white\",\"ticks\":\"\"}},\"title\":{\"x\":0.05},\"xaxis\":{\"automargin\":true,\"gridcolor\":\"white\",\"linecolor\":\"white\",\"ticks\":\"\",\"title\":{\"standoff\":15},\"zerolinecolor\":\"white\",\"zerolinewidth\":2},\"yaxis\":{\"automargin\":true,\"gridcolor\":\"white\",\"linecolor\":\"white\",\"ticks\":\"\",\"title\":{\"standoff\":15},\"zerolinecolor\":\"white\",\"zerolinewidth\":2}}},\"xaxis\":{\"anchor\":\"y\",\"domain\":[0.0,1.0],\"title\":{\"text\":\"AveragePrice\"}},\"yaxis\":{\"anchor\":\"x\",\"domain\":[0.0,1.0],\"title\":{\"text\":\"Volume\"}},\"legend\":{\"title\":{\"text\":\"year\"},\"tracegroupgap\":0},\"title\":{\"text\":\"Average Price of Avacados by Volume for year 2015 and 2016  \"}},                        {\"responsive\": true}                    ).then(function(){\n",
       "                            \n",
       "var gd = document.getElementById('222f78ad-a26f-4875-b776-93bb349550a9');\n",
       "var x = new MutationObserver(function (mutations, observer) {{\n",
       "        var display = window.getComputedStyle(gd).display;\n",
       "        if (!display || display === 'none') {{\n",
       "            console.log([gd, 'removed!']);\n",
       "            Plotly.purge(gd);\n",
       "            observer.disconnect();\n",
       "        }}\n",
       "}});\n",
       "\n",
       "// Listen for the removal of the full notebook cells\n",
       "var notebookContainer = gd.closest('#notebook-container');\n",
       "if (notebookContainer) {{\n",
       "    x.observe(notebookContainer, {childList: true});\n",
       "}}\n",
       "\n",
       "// Listen for the clearing of the current output cell\n",
       "var outputEl = gd.closest('.output');\n",
       "if (outputEl) {{\n",
       "    x.observe(outputEl, {childList: true});\n",
       "}}\n",
       "\n",
       "                        })                };                });            </script>        </div>"
      ]
     },
     "metadata": {},
     "output_type": "display_data"
    }
   ],
   "source": [
    "import plotly.express as px\n",
    "data=df.groupby(['AveragePrice','year']).apply(lambda x:x['Total Volume'].count()).reset_index(name='Volume')\n",
    "px.line(data,x='AveragePrice',y='Volume',color='year',title='Average Price of Avacados by Volume for year 2015 and 2016  ')"
   ]
  },
  {
   "cell_type": "markdown",
   "id": "b0505d6d",
   "metadata": {},
   "source": [
    "### Average price of avacado's for the year 2016 was way more than any other year, but highest volumes of avacado's were produced in 2015,reaching to a mark of 85, after that the produce of avocados seem to decrease. It is also to be noted that high volumes of avocados are sold at lower average price."
   ]
  },
  {
   "cell_type": "code",
   "execution_count": 365,
   "id": "950a9dc7",
   "metadata": {
    "scrolled": true
   },
   "outputs": [
    {
     "data": {
      "text/plain": [
       "(array([ 0,  1,  2,  3,  4,  5,  6,  7,  8,  9, 10, 11, 12, 13, 14, 15, 16,\n",
       "        17, 18, 19, 20, 21, 22, 23, 24, 25, 26, 27, 28, 29, 30, 31, 32, 33,\n",
       "        34, 35, 36, 37, 38, 39, 40, 41, 42, 43, 44, 45, 46, 47, 48, 49, 50,\n",
       "        51, 52, 53]),\n",
       " [Text(0, 0, 'Albany'),\n",
       "  Text(1, 0, 'Atlanta'),\n",
       "  Text(2, 0, 'BaltimoreWashington'),\n",
       "  Text(3, 0, 'Boise'),\n",
       "  Text(4, 0, 'Boston'),\n",
       "  Text(5, 0, 'BuffaloRochester'),\n",
       "  Text(6, 0, 'California'),\n",
       "  Text(7, 0, 'Charlotte'),\n",
       "  Text(8, 0, 'Chicago'),\n",
       "  Text(9, 0, 'CincinnatiDayton'),\n",
       "  Text(10, 0, 'Columbus'),\n",
       "  Text(11, 0, 'DallasFtWorth'),\n",
       "  Text(12, 0, 'Denver'),\n",
       "  Text(13, 0, 'Detroit'),\n",
       "  Text(14, 0, 'GrandRapids'),\n",
       "  Text(15, 0, 'GreatLakes'),\n",
       "  Text(16, 0, 'HarrisburgScranton'),\n",
       "  Text(17, 0, 'HartfordSpringfield'),\n",
       "  Text(18, 0, 'Houston'),\n",
       "  Text(19, 0, 'Indianapolis'),\n",
       "  Text(20, 0, 'Jacksonville'),\n",
       "  Text(21, 0, 'LasVegas'),\n",
       "  Text(22, 0, 'LosAngeles'),\n",
       "  Text(23, 0, 'Louisville'),\n",
       "  Text(24, 0, 'MiamiFtLauderdale'),\n",
       "  Text(25, 0, 'Midsouth'),\n",
       "  Text(26, 0, 'Nashville'),\n",
       "  Text(27, 0, 'NewOrleansMobile'),\n",
       "  Text(28, 0, 'NewYork'),\n",
       "  Text(29, 0, 'Northeast'),\n",
       "  Text(30, 0, 'NorthernNewEngland'),\n",
       "  Text(31, 0, 'Orlando'),\n",
       "  Text(32, 0, 'Philadelphia'),\n",
       "  Text(33, 0, 'PhoenixTucson'),\n",
       "  Text(34, 0, 'Pittsburgh'),\n",
       "  Text(35, 0, 'Plains'),\n",
       "  Text(36, 0, 'Portland'),\n",
       "  Text(37, 0, 'RaleighGreensboro'),\n",
       "  Text(38, 0, 'RichmondNorfolk'),\n",
       "  Text(39, 0, 'Roanoke'),\n",
       "  Text(40, 0, 'Sacramento'),\n",
       "  Text(41, 0, 'SanDiego'),\n",
       "  Text(42, 0, 'SanFrancisco'),\n",
       "  Text(43, 0, 'Seattle'),\n",
       "  Text(44, 0, 'SouthCarolina'),\n",
       "  Text(45, 0, 'SouthCentral'),\n",
       "  Text(46, 0, 'Southeast'),\n",
       "  Text(47, 0, 'Spokane'),\n",
       "  Text(48, 0, 'StLouis'),\n",
       "  Text(49, 0, 'Syracuse'),\n",
       "  Text(50, 0, 'Tampa'),\n",
       "  Text(51, 0, 'TotalUS'),\n",
       "  Text(52, 0, 'West'),\n",
       "  Text(53, 0, 'WestTexNewMexico')])"
      ]
     },
     "execution_count": 365,
     "metadata": {},
     "output_type": "execute_result"
    },
    {
     "data": {
      "image/png": "[encoded data removed]",
      "text/plain": [
       "<Figure size 1440x576 with 1 Axes>"
      ]
     },
     "metadata": {
      "needs_background": "light"
     },
     "output_type": "display_data"
    }
   ],
   "source": [
    "plt.figure(figsize=(20,8))\n",
    "sns.boxplot(x='region',y='AveragePrice',data=df)\n",
    "plt.xticks(rotation=90)"
   ]
  },
  {
   "cell_type": "markdown",
   "id": "d3b4aad5",
   "metadata": {},
   "source": [
    "#### Highest average price for avacaodo's were in San diego, Las vegas and cahrlotte regions while the least was from phoenix tucson. It is also to be noted that highest average price belong from areas where there is more development."
   ]
  },
  {
   "cell_type": "code",
   "execution_count": 366,
   "id": "90b1aad1",
   "metadata": {
    "scrolled": false
   },
   "outputs": [
    {
     "data": {
      "text/plain": [
       "(array([ 0,  1,  2,  3,  4,  5,  6,  7,  8,  9, 10, 11, 12, 13, 14, 15, 16,\n",
       "        17, 18, 19, 20, 21, 22, 23, 24, 25, 26, 27, 28, 29, 30, 31, 32, 33,\n",
       "        34, 35, 36, 37, 38, 39, 40, 41, 42, 43, 44, 45, 46, 47, 48, 49, 50,\n",
       "        51, 52, 53]),\n",
       " [Text(0, 0, 'Albany'),\n",
       "  Text(1, 0, 'Atlanta'),\n",
       "  Text(2, 0, 'BaltimoreWashington'),\n",
       "  Text(3, 0, 'Boise'),\n",
       "  Text(4, 0, 'Boston'),\n",
       "  Text(5, 0, 'BuffaloRochester'),\n",
       "  Text(6, 0, 'California'),\n",
       "  Text(7, 0, 'Charlotte'),\n",
       "  Text(8, 0, 'Chicago'),\n",
       "  Text(9, 0, 'CincinnatiDayton'),\n",
       "  Text(10, 0, 'Columbus'),\n",
       "  Text(11, 0, 'DallasFtWorth'),\n",
       "  Text(12, 0, 'Denver'),\n",
       "  Text(13, 0, 'Detroit'),\n",
       "  Text(14, 0, 'GrandRapids'),\n",
       "  Text(15, 0, 'GreatLakes'),\n",
       "  Text(16, 0, 'HarrisburgScranton'),\n",
       "  Text(17, 0, 'HartfordSpringfield'),\n",
       "  Text(18, 0, 'Houston'),\n",
       "  Text(19, 0, 'Indianapolis'),\n",
       "  Text(20, 0, 'Jacksonville'),\n",
       "  Text(21, 0, 'LasVegas'),\n",
       "  Text(22, 0, 'LosAngeles'),\n",
       "  Text(23, 0, 'Louisville'),\n",
       "  Text(24, 0, 'MiamiFtLauderdale'),\n",
       "  Text(25, 0, 'Midsouth'),\n",
       "  Text(26, 0, 'Nashville'),\n",
       "  Text(27, 0, 'NewOrleansMobile'),\n",
       "  Text(28, 0, 'NewYork'),\n",
       "  Text(29, 0, 'Northeast'),\n",
       "  Text(30, 0, 'NorthernNewEngland'),\n",
       "  Text(31, 0, 'Orlando'),\n",
       "  Text(32, 0, 'Philadelphia'),\n",
       "  Text(33, 0, 'PhoenixTucson'),\n",
       "  Text(34, 0, 'Pittsburgh'),\n",
       "  Text(35, 0, 'Plains'),\n",
       "  Text(36, 0, 'Portland'),\n",
       "  Text(37, 0, 'RaleighGreensboro'),\n",
       "  Text(38, 0, 'RichmondNorfolk'),\n",
       "  Text(39, 0, 'Roanoke'),\n",
       "  Text(40, 0, 'Sacramento'),\n",
       "  Text(41, 0, 'SanDiego'),\n",
       "  Text(42, 0, 'SanFrancisco'),\n",
       "  Text(43, 0, 'Seattle'),\n",
       "  Text(44, 0, 'SouthCarolina'),\n",
       "  Text(45, 0, 'SouthCentral'),\n",
       "  Text(46, 0, 'Southeast'),\n",
       "  Text(47, 0, 'Spokane'),\n",
       "  Text(48, 0, 'StLouis'),\n",
       "  Text(49, 0, 'Syracuse'),\n",
       "  Text(50, 0, 'Tampa'),\n",
       "  Text(51, 0, 'TotalUS'),\n",
       "  Text(52, 0, 'West'),\n",
       "  Text(53, 0, 'WestTexNewMexico')])"
      ]
     },
     "execution_count": 366,
     "metadata": {},
     "output_type": "execute_result"
    },
    {
     "data": {
      "image/png": "[encoded data removed]",
      "text/plain": [
       "<Figure size 1440x684 with 1 Axes>"
      ]
     },
     "metadata": {
      "needs_background": "light"
     },
     "output_type": "display_data"
    }
   ],
   "source": [
    "plt.figure(figsize=(20,9.5))\n",
    "sns.barplot(x='region',y='Total Volume',data=df)\n",
    "plt.xticks(rotation=90)"
   ]
  },
  {
   "cell_type": "markdown",
   "id": "ebab470e",
   "metadata": {},
   "source": [
    "### Highest volumes of avacado's are found in the US. That could be the reason price of avacado's low there. As supply increases price decreases,whereas region with less volume such as las vegas have the highest price of avacado's."
   ]
  },
  {
   "cell_type": "code",
   "execution_count": 367,
   "id": "1353b4d0",
   "metadata": {},
   "outputs": [],
   "source": [
    "#dropping unwanted column\n",
    "df.drop(['Unnamed: 0','year'],axis=1,inplace=True)"
   ]
  },
  {
   "cell_type": "code",
   "execution_count": 368,
   "id": "ce568957",
   "metadata": {},
   "outputs": [],
   "source": [
    "df['Date']=pd.to_datetime(df['Date'])"
   ]
  },
  {
   "cell_type": "code",
   "execution_count": 369,
   "id": "c5e0dbe1",
   "metadata": {
    "scrolled": true
   },
   "outputs": [
    {
     "data": {
      "text/html": [
       "<div>\n",
       "<style scoped>\n",
       "    .dataframe tbody tr th:only-of-type {\n",
       "        vertical-align: middle;\n",
       "    }\n",
       "\n",
       "    .dataframe tbody tr th {\n",
       "        vertical-align: top;\n",
       "    }\n",
       "\n",
       "    .dataframe thead th {\n",
       "        text-align: right;\n",
       "    }\n",
       "</style>\n",
       "<table border=\"1\" class=\"dataframe\">\n",
       "  <thead>\n",
       "    <tr style=\"text-align: right;\">\n",
       "      <th></th>\n",
       "      <th>Date</th>\n",
       "      <th>AveragePrice</th>\n",
       "      <th>Total Volume</th>\n",
       "      <th>4046</th>\n",
       "      <th>4225</th>\n",
       "      <th>4770</th>\n",
       "      <th>Total Bags</th>\n",
       "      <th>Small Bags</th>\n",
       "      <th>Large Bags</th>\n",
       "      <th>XLarge Bags</th>\n",
       "      <th>type</th>\n",
       "      <th>region</th>\n",
       "    </tr>\n",
       "  </thead>\n",
       "  <tbody>\n",
       "    <tr>\n",
       "      <th>0</th>\n",
       "      <td>2015-12-27</td>\n",
       "      <td>1.33</td>\n",
       "      <td>64236.62</td>\n",
       "      <td>1036.74</td>\n",
       "      <td>54454.85</td>\n",
       "      <td>48.16</td>\n",
       "      <td>8696.87</td>\n",
       "      <td>8603.62</td>\n",
       "      <td>93.25</td>\n",
       "      <td>0.0</td>\n",
       "      <td>conventional</td>\n",
       "      <td>Albany</td>\n",
       "    </tr>\n",
       "    <tr>\n",
       "      <th>1</th>\n",
       "      <td>2015-12-20</td>\n",
       "      <td>1.35</td>\n",
       "      <td>54876.98</td>\n",
       "      <td>674.28</td>\n",
       "      <td>44638.81</td>\n",
       "      <td>58.33</td>\n",
       "      <td>9505.56</td>\n",
       "      <td>9408.07</td>\n",
       "      <td>97.49</td>\n",
       "      <td>0.0</td>\n",
       "      <td>conventional</td>\n",
       "      <td>Albany</td>\n",
       "    </tr>\n",
       "    <tr>\n",
       "      <th>2</th>\n",
       "      <td>2015-12-13</td>\n",
       "      <td>0.93</td>\n",
       "      <td>118220.22</td>\n",
       "      <td>794.70</td>\n",
       "      <td>109149.67</td>\n",
       "      <td>130.50</td>\n",
       "      <td>8145.35</td>\n",
       "      <td>8042.21</td>\n",
       "      <td>103.14</td>\n",
       "      <td>0.0</td>\n",
       "      <td>conventional</td>\n",
       "      <td>Albany</td>\n",
       "    </tr>\n",
       "    <tr>\n",
       "      <th>3</th>\n",
       "      <td>2015-12-06</td>\n",
       "      <td>1.08</td>\n",
       "      <td>78992.15</td>\n",
       "      <td>1132.00</td>\n",
       "      <td>71976.41</td>\n",
       "      <td>72.58</td>\n",
       "      <td>5811.16</td>\n",
       "      <td>5677.40</td>\n",
       "      <td>133.76</td>\n",
       "      <td>0.0</td>\n",
       "      <td>conventional</td>\n",
       "      <td>Albany</td>\n",
       "    </tr>\n",
       "    <tr>\n",
       "      <th>4</th>\n",
       "      <td>2015-11-29</td>\n",
       "      <td>1.28</td>\n",
       "      <td>51039.60</td>\n",
       "      <td>941.48</td>\n",
       "      <td>43838.39</td>\n",
       "      <td>75.78</td>\n",
       "      <td>6183.95</td>\n",
       "      <td>5986.26</td>\n",
       "      <td>197.69</td>\n",
       "      <td>0.0</td>\n",
       "      <td>conventional</td>\n",
       "      <td>Albany</td>\n",
       "    </tr>\n",
       "  </tbody>\n",
       "</table>\n",
       "</div>"
      ],
      "text/plain": [
       "        Date  AveragePrice  Total Volume     4046       4225    4770  \\\n",
       "0 2015-12-27          1.33      64236.62  1036.74   54454.85   48.16   \n",
       "1 2015-12-20          1.35      54876.98   674.28   44638.81   58.33   \n",
       "2 2015-12-13          0.93     118220.22   794.70  109149.67  130.50   \n",
       "3 2015-12-06          1.08      78992.15  1132.00   71976.41   72.58   \n",
       "4 2015-11-29          1.28      51039.60   941.48   43838.39   75.78   \n",
       "\n",
       "   Total Bags  Small Bags  Large Bags  XLarge Bags          type  region  \n",
       "0     8696.87     8603.62       93.25          0.0  conventional  Albany  \n",
       "1     9505.56     9408.07       97.49          0.0  conventional  Albany  \n",
       "2     8145.35     8042.21      103.14          0.0  conventional  Albany  \n",
       "3     5811.16     5677.40      133.76          0.0  conventional  Albany  \n",
       "4     6183.95     5986.26      197.69          0.0  conventional  Albany  "
      ]
     },
     "execution_count": 369,
     "metadata": {},
     "output_type": "execute_result"
    }
   ],
   "source": [
    "df.head()"
   ]
  },
  {
   "cell_type": "code",
   "execution_count": 370,
   "id": "7a281dd1",
   "metadata": {},
   "outputs": [],
   "source": [
    "df['Month']=df['Date'].apply(lambda x:x.month)\n",
    "df['Day']=df['Date'].apply(lambda x:x.day)\n",
    "df['Year']=df['Date'].apply(lambda x:x.year)\n",
    "df.drop('Date',axis=1,inplace=True)"
   ]
  },
  {
   "cell_type": "code",
   "execution_count": 371,
   "id": "855bc761",
   "metadata": {
    "scrolled": true
   },
   "outputs": [
    {
     "data": {
      "text/plain": [
       "<AxesSubplot:xlabel='Month', ylabel='AveragePrice'>"
      ]
     },
     "execution_count": 371,
     "metadata": {},
     "output_type": "execute_result"
    },
    {
     "data": {
      "image/png": "[encoded data removed]",
      "text/plain": [
       "<Figure size 720x504 with 1 Axes>"
      ]
     },
     "metadata": {
      "needs_background": "light"
     },
     "output_type": "display_data"
    }
   ],
   "source": [
    "plt.figure(figsize=(10,7))\n",
    "sns.lineplot(x='Month',y='AveragePrice',hue='Year',ci=18,data=df)"
   ]
  },
  {
   "cell_type": "markdown",
   "id": "1f44ec6b",
   "metadata": {},
   "source": [
    "### Average price of avacado's is high in the month of September October November. As the season for avocado's is in the summer, off season fruit is expensive. We have data for year 2018 till march only"
   ]
  },
  {
   "cell_type": "code",
   "execution_count": 372,
   "id": "a5f7183a",
   "metadata": {
    "scrolled": true
   },
   "outputs": [
    {
     "data": {
      "text/html": [
       "<div>\n",
       "<style scoped>\n",
       "    .dataframe tbody tr th:only-of-type {\n",
       "        vertical-align: middle;\n",
       "    }\n",
       "\n",
       "    .dataframe tbody tr th {\n",
       "        vertical-align: top;\n",
       "    }\n",
       "\n",
       "    .dataframe thead th {\n",
       "        text-align: right;\n",
       "    }\n",
       "</style>\n",
       "<table border=\"1\" class=\"dataframe\">\n",
       "  <thead>\n",
       "    <tr style=\"text-align: right;\">\n",
       "      <th></th>\n",
       "      <th>AveragePrice</th>\n",
       "      <th>Total Volume</th>\n",
       "      <th>4046</th>\n",
       "      <th>4225</th>\n",
       "      <th>4770</th>\n",
       "      <th>Total Bags</th>\n",
       "      <th>Small Bags</th>\n",
       "      <th>Large Bags</th>\n",
       "      <th>XLarge Bags</th>\n",
       "      <th>type</th>\n",
       "      <th>region</th>\n",
       "      <th>Month</th>\n",
       "      <th>Day</th>\n",
       "      <th>Year</th>\n",
       "    </tr>\n",
       "  </thead>\n",
       "  <tbody>\n",
       "    <tr>\n",
       "      <th>0</th>\n",
       "      <td>1.33</td>\n",
       "      <td>64236.62</td>\n",
       "      <td>1036.74</td>\n",
       "      <td>54454.85</td>\n",
       "      <td>48.16</td>\n",
       "      <td>8696.87</td>\n",
       "      <td>8603.62</td>\n",
       "      <td>93.25</td>\n",
       "      <td>0.0</td>\n",
       "      <td>conventional</td>\n",
       "      <td>Albany</td>\n",
       "      <td>12</td>\n",
       "      <td>27</td>\n",
       "      <td>2015</td>\n",
       "    </tr>\n",
       "    <tr>\n",
       "      <th>1</th>\n",
       "      <td>1.35</td>\n",
       "      <td>54876.98</td>\n",
       "      <td>674.28</td>\n",
       "      <td>44638.81</td>\n",
       "      <td>58.33</td>\n",
       "      <td>9505.56</td>\n",
       "      <td>9408.07</td>\n",
       "      <td>97.49</td>\n",
       "      <td>0.0</td>\n",
       "      <td>conventional</td>\n",
       "      <td>Albany</td>\n",
       "      <td>12</td>\n",
       "      <td>20</td>\n",
       "      <td>2015</td>\n",
       "    </tr>\n",
       "    <tr>\n",
       "      <th>2</th>\n",
       "      <td>0.93</td>\n",
       "      <td>118220.22</td>\n",
       "      <td>794.70</td>\n",
       "      <td>109149.67</td>\n",
       "      <td>130.50</td>\n",
       "      <td>8145.35</td>\n",
       "      <td>8042.21</td>\n",
       "      <td>103.14</td>\n",
       "      <td>0.0</td>\n",
       "      <td>conventional</td>\n",
       "      <td>Albany</td>\n",
       "      <td>12</td>\n",
       "      <td>13</td>\n",
       "      <td>2015</td>\n",
       "    </tr>\n",
       "    <tr>\n",
       "      <th>3</th>\n",
       "      <td>1.08</td>\n",
       "      <td>78992.15</td>\n",
       "      <td>1132.00</td>\n",
       "      <td>71976.41</td>\n",
       "      <td>72.58</td>\n",
       "      <td>5811.16</td>\n",
       "      <td>5677.40</td>\n",
       "      <td>133.76</td>\n",
       "      <td>0.0</td>\n",
       "      <td>conventional</td>\n",
       "      <td>Albany</td>\n",
       "      <td>12</td>\n",
       "      <td>6</td>\n",
       "      <td>2015</td>\n",
       "    </tr>\n",
       "    <tr>\n",
       "      <th>4</th>\n",
       "      <td>1.28</td>\n",
       "      <td>51039.60</td>\n",
       "      <td>941.48</td>\n",
       "      <td>43838.39</td>\n",
       "      <td>75.78</td>\n",
       "      <td>6183.95</td>\n",
       "      <td>5986.26</td>\n",
       "      <td>197.69</td>\n",
       "      <td>0.0</td>\n",
       "      <td>conventional</td>\n",
       "      <td>Albany</td>\n",
       "      <td>11</td>\n",
       "      <td>29</td>\n",
       "      <td>2015</td>\n",
       "    </tr>\n",
       "  </tbody>\n",
       "</table>\n",
       "</div>"
      ],
      "text/plain": [
       "   AveragePrice  Total Volume     4046       4225    4770  Total Bags  \\\n",
       "0          1.33      64236.62  1036.74   54454.85   48.16     8696.87   \n",
       "1          1.35      54876.98   674.28   44638.81   58.33     9505.56   \n",
       "2          0.93     118220.22   794.70  109149.67  130.50     8145.35   \n",
       "3          1.08      78992.15  1132.00   71976.41   72.58     5811.16   \n",
       "4          1.28      51039.60   941.48   43838.39   75.78     6183.95   \n",
       "\n",
       "   Small Bags  Large Bags  XLarge Bags          type  region  Month  Day  Year  \n",
       "0     8603.62       93.25          0.0  conventional  Albany     12   27  2015  \n",
       "1     9408.07       97.49          0.0  conventional  Albany     12   20  2015  \n",
       "2     8042.21      103.14          0.0  conventional  Albany     12   13  2015  \n",
       "3     5677.40      133.76          0.0  conventional  Albany     12    6  2015  \n",
       "4     5986.26      197.69          0.0  conventional  Albany     11   29  2015  "
      ]
     },
     "execution_count": 372,
     "metadata": {},
     "output_type": "execute_result"
    }
   ],
   "source": [
    "df.head()"
   ]
  },
  {
   "cell_type": "code",
   "execution_count": 373,
   "id": "62f4ca06",
   "metadata": {},
   "outputs": [],
   "source": [
    "#We replace 2015 by 1 and 2016 by 2 for more simplicity\n",
    "df['Year'].replace(2015,1,inplace=True)\n",
    "df['Year'].replace(2016,2,inplace=True)\n",
    "df['Year'].replace(2017,3,inplace=True)\n",
    "df['Year'].replace(2018,4,inplace=True)"
   ]
  },
  {
   "cell_type": "code",
   "execution_count": 374,
   "id": "394b87de",
   "metadata": {},
   "outputs": [],
   "source": [
    "#we create a time column using year,month and day column and then drop these 3.\n",
    "df['Time']=(df['Year']*365)+(df['Month']*30)+(df['Day'])\n",
    "df.drop(['Year','Month','Day'],axis=1,inplace=True)"
   ]
  },
  {
   "cell_type": "code",
   "execution_count": 375,
   "id": "07ec9c4a",
   "metadata": {},
   "outputs": [],
   "source": [
    "from sklearn.preprocessing import OrdinalEncoder\n",
    "ord=OrdinalEncoder()\n",
    "df['type']=ord.fit_transform(df['type'].values.reshape(-1,1))\n",
    "df['region']=ord.fit_transform(df['region'].values.reshape(-1,1))"
   ]
  },
  {
   "cell_type": "code",
   "execution_count": 376,
   "id": "86fb3622",
   "metadata": {
    "scrolled": true
   },
   "outputs": [
    {
     "data": {
      "text/plain": [
       "(18249, 12)"
      ]
     },
     "execution_count": 376,
     "metadata": {},
     "output_type": "execute_result"
    }
   ],
   "source": [
    "df.shape"
   ]
  },
  {
   "cell_type": "markdown",
   "id": "5be65617",
   "metadata": {},
   "source": [
    "### Removing Outliers"
   ]
  },
  {
   "cell_type": "code",
   "execution_count": 377,
   "id": "2097d2a0",
   "metadata": {},
   "outputs": [
    {
     "name": "stdout",
     "output_type": "stream",
     "text": [
      "AveragePrice\n"
     ]
    },
    {
     "data": {
      "image/png": "[encoded data removed]",
      "text/plain": [
       "<Figure size 432x288 with 1 Axes>"
      ]
     },
     "metadata": {
      "needs_background": "light"
     },
     "output_type": "display_data"
    },
    {
     "name": "stdout",
     "output_type": "stream",
     "text": [
      "Total Volume\n"
     ]
    },
    {
     "data": {
      "image/png": "[encoded data removed]",
      "text/plain": [
       "<Figure size 432x288 with 1 Axes>"
      ]
     },
     "metadata": {
      "needs_background": "light"
     },
     "output_type": "display_data"
    },
    {
     "name": "stdout",
     "output_type": "stream",
     "text": [
      "4046\n"
     ]
    },
    {
     "data": {
      "image/png": "[encoded data removed]",
      "text/plain": [
       "<Figure size 432x288 with 1 Axes>"
      ]
     },
     "metadata": {
      "needs_background": "light"
     },
     "output_type": "display_data"
    },
    {
     "name": "stdout",
     "output_type": "stream",
     "text": [
      "4225\n"
     ]
    },
    {
     "data": {
      "image/png": "[encoded data removed]",
      "text/plain": [
       "<Figure size 432x288 with 1 Axes>"
      ]
     },
     "metadata": {
      "needs_background": "light"
     },
     "output_type": "display_data"
    },
    {
     "name": "stdout",
     "output_type": "stream",
     "text": [
      "4770\n"
     ]
    },
    {
     "data": {
      "image/png": "[encoded data removed]",
      "text/plain": [
       "<Figure size 432x288 with 1 Axes>"
      ]
     },
     "metadata": {
      "needs_background": "light"
     },
     "output_type": "display_data"
    },
    {
     "name": "stdout",
     "output_type": "stream",
     "text": [
      "Total Bags\n"
     ]
    },
    {
     "data": {
      "image/png": "[encoded data removed]",
      "text/plain": [
       "<Figure size 432x288 with 1 Axes>"
      ]
     },
     "metadata": {
      "needs_background": "light"
     },
     "output_type": "display_data"
    },
    {
     "name": "stdout",
     "output_type": "stream",
     "text": [
      "Small Bags\n"
     ]
    },
    {
     "data": {
      "image/png": "[encoded data removed]",
      "text/plain": [
       "<Figure size 432x288 with 1 Axes>"
      ]
     },
     "metadata": {
      "needs_background": "light"
     },
     "output_type": "display_data"
    },
    {
     "name": "stdout",
     "output_type": "stream",
     "text": [
      "Large Bags\n"
     ]
    },
    {
     "data": {
      "image/png": "[encoded data removed]",
      "text/plain": [
       "<Figure size 432x288 with 1 Axes>"
      ]
     },
     "metadata": {
      "needs_background": "light"
     },
     "output_type": "display_data"
    },
    {
     "name": "stdout",
     "output_type": "stream",
     "text": [
      "XLarge Bags\n"
     ]
    },
    {
     "data": {
      "image/png": "[encoded data removed]",
      "text/plain": [
       "<Figure size 432x288 with 1 Axes>"
      ]
     },
     "metadata": {
      "needs_background": "light"
     },
     "output_type": "display_data"
    },
    {
     "name": "stdout",
     "output_type": "stream",
     "text": [
      "type\n"
     ]
    },
    {
     "data": {
      "image/png": "[encoded data removed]",
      "text/plain": [
       "<Figure size 432x288 with 1 Axes>"
      ]
     },
     "metadata": {
      "needs_background": "light"
     },
     "output_type": "display_data"
    },
    {
     "name": "stdout",
     "output_type": "stream",
     "text": [
      "region\n"
     ]
    },
    {
     "data": {
      "image/png": "[encoded data removed]",
      "text/plain": [
       "<Figure size 432x288 with 1 Axes>"
      ]
     },
     "metadata": {
      "needs_background": "light"
     },
     "output_type": "display_data"
    },
    {
     "name": "stdout",
     "output_type": "stream",
     "text": [
      "Time\n"
     ]
    },
    {
     "data": {
      "image/png": "[encoded data removed]",
      "text/plain": [
       "<Figure size 432x288 with 1 Axes>"
      ]
     },
     "metadata": {
      "needs_background": "light"
     },
     "output_type": "display_data"
    }
   ],
   "source": [
    "for i in df:\n",
    "    print(i)\n",
    "    sns.boxplot(df[i])\n",
    "    plt.show()"
   ]
  },
  {
   "cell_type": "code",
   "execution_count": 378,
   "id": "5f8ce581",
   "metadata": {},
   "outputs": [],
   "source": [
    "#Function to choose the right threshold \n",
    "def threhold(z,d):\n",
    "    for i in np.arange(3,4,0.01):\n",
    "        data=d.copy()\n",
    "        data=data[(z<i).all(axis=1)]\n",
    "        loss=(d.shape[0]-data.shape[0])/d.shape[0]*100\n",
    "        print('With threshold {} data loss is {}%'.format(np.round(i,2),np.round(loss,2))) "
   ]
  },
  {
   "cell_type": "code",
   "execution_count": 379,
   "id": "d895aaa8",
   "metadata": {
    "scrolled": true
   },
   "outputs": [
    {
     "name": "stdout",
     "output_type": "stream",
     "text": [
      "With threshold 3.0 data loss is 3.28%\n",
      "With threshold 3.01 data loss is 3.27%\n",
      "With threshold 3.02 data loss is 3.19%\n",
      "With threshold 3.03 data loss is 3.17%\n",
      "With threshold 3.04 data loss is 3.14%\n",
      "With threshold 3.05 data loss is 3.13%\n",
      "With threshold 3.06 data loss is 3.12%\n",
      "With threshold 3.07 data loss is 3.09%\n",
      "With threshold 3.08 data loss is 3.07%\n",
      "With threshold 3.09 data loss is 3.03%\n",
      "With threshold 3.1 data loss is 3.0%\n",
      "With threshold 3.11 data loss is 3.0%\n",
      "With threshold 3.12 data loss is 2.95%\n",
      "With threshold 3.13 data loss is 2.94%\n",
      "With threshold 3.14 data loss is 2.89%\n",
      "With threshold 3.15 data loss is 2.89%\n",
      "With threshold 3.16 data loss is 2.88%\n",
      "With threshold 3.17 data loss is 2.85%\n",
      "With threshold 3.18 data loss is 2.84%\n",
      "With threshold 3.19 data loss is 2.83%\n",
      "With threshold 3.2 data loss is 2.81%\n",
      "With threshold 3.21 data loss is 2.8%\n",
      "With threshold 3.22 data loss is 2.78%\n",
      "With threshold 3.23 data loss is 2.76%\n",
      "With threshold 3.24 data loss is 2.73%\n",
      "With threshold 3.25 data loss is 2.73%\n",
      "With threshold 3.26 data loss is 2.73%\n",
      "With threshold 3.27 data loss is 2.7%\n",
      "With threshold 3.28 data loss is 2.7%\n",
      "With threshold 3.29 data loss is 2.66%\n",
      "With threshold 3.3 data loss is 2.64%\n",
      "With threshold 3.31 data loss is 2.62%\n",
      "With threshold 3.32 data loss is 2.59%\n",
      "With threshold 3.33 data loss is 2.58%\n",
      "With threshold 3.34 data loss is 2.55%\n",
      "With threshold 3.35 data loss is 2.54%\n",
      "With threshold 3.36 data loss is 2.54%\n",
      "With threshold 3.37 data loss is 2.51%\n",
      "With threshold 3.38 data loss is 2.51%\n",
      "With threshold 3.39 data loss is 2.48%\n",
      "With threshold 3.4 data loss is 2.48%\n",
      "With threshold 3.41 data loss is 2.47%\n",
      "With threshold 3.42 data loss is 2.45%\n",
      "With threshold 3.43 data loss is 2.44%\n",
      "With threshold 3.44 data loss is 2.41%\n",
      "With threshold 3.45 data loss is 2.39%\n",
      "With threshold 3.46 data loss is 2.38%\n",
      "With threshold 3.47 data loss is 2.36%\n",
      "With threshold 3.48 data loss is 2.36%\n",
      "With threshold 3.49 data loss is 2.32%\n",
      "With threshold 3.5 data loss is 2.3%\n",
      "With threshold 3.51 data loss is 2.3%\n",
      "With threshold 3.52 data loss is 2.28%\n",
      "With threshold 3.53 data loss is 2.28%\n",
      "With threshold 3.54 data loss is 2.24%\n",
      "With threshold 3.55 data loss is 2.23%\n",
      "With threshold 3.56 data loss is 2.22%\n",
      "With threshold 3.57 data loss is 2.18%\n",
      "With threshold 3.58 data loss is 2.16%\n",
      "With threshold 3.59 data loss is 2.13%\n",
      "With threshold 3.6 data loss is 2.12%\n",
      "With threshold 3.61 data loss is 2.12%\n",
      "With threshold 3.62 data loss is 2.1%\n",
      "With threshold 3.63 data loss is 2.1%\n",
      "With threshold 3.64 data loss is 2.08%\n",
      "With threshold 3.65 data loss is 2.07%\n",
      "With threshold 3.66 data loss is 2.07%\n",
      "With threshold 3.67 data loss is 2.04%\n",
      "With threshold 3.68 data loss is 2.03%\n",
      "With threshold 3.69 data loss is 2.01%\n",
      "With threshold 3.7 data loss is 1.99%\n",
      "With threshold 3.71 data loss is 1.98%\n",
      "With threshold 3.72 data loss is 1.96%\n",
      "With threshold 3.73 data loss is 1.96%\n",
      "With threshold 3.74 data loss is 1.93%\n",
      "With threshold 3.75 data loss is 1.92%\n",
      "With threshold 3.76 data loss is 1.89%\n",
      "With threshold 3.77 data loss is 1.87%\n",
      "With threshold 3.78 data loss is 1.87%\n",
      "With threshold 3.79 data loss is 1.84%\n",
      "With threshold 3.8 data loss is 1.83%\n",
      "With threshold 3.81 data loss is 1.82%\n",
      "With threshold 3.82 data loss is 1.81%\n",
      "With threshold 3.83 data loss is 1.8%\n",
      "With threshold 3.84 data loss is 1.79%\n",
      "With threshold 3.85 data loss is 1.78%\n",
      "With threshold 3.86 data loss is 1.77%\n",
      "With threshold 3.87 data loss is 1.76%\n",
      "With threshold 3.88 data loss is 1.74%\n",
      "With threshold 3.89 data loss is 1.74%\n",
      "With threshold 3.9 data loss is 1.73%\n",
      "With threshold 3.91 data loss is 1.72%\n",
      "With threshold 3.92 data loss is 1.72%\n",
      "With threshold 3.93 data loss is 1.71%\n",
      "With threshold 3.94 data loss is 1.7%\n",
      "With threshold 3.95 data loss is 1.68%\n",
      "With threshold 3.96 data loss is 1.67%\n",
      "With threshold 3.97 data loss is 1.67%\n",
      "With threshold 3.98 data loss is 1.67%\n",
      "With threshold 3.99 data loss is 1.66%\n"
     ]
    }
   ],
   "source": [
    "from scipy.stats import zscore\n",
    "z=np.abs(zscore(df))\n",
    "threhold(z,df)"
   ]
  },
  {
   "cell_type": "code",
   "execution_count": 380,
   "id": "d0777bb4",
   "metadata": {},
   "outputs": [],
   "source": [
    "df=df[(z<3.57).all(axis=1)]"
   ]
  },
  {
   "cell_type": "code",
   "execution_count": 381,
   "id": "751f977b",
   "metadata": {
    "scrolled": false
   },
   "outputs": [
    {
     "data": {
      "text/html": [
       "<div>\n",
       "<style scoped>\n",
       "    .dataframe tbody tr th:only-of-type {\n",
       "        vertical-align: middle;\n",
       "    }\n",
       "\n",
       "    .dataframe tbody tr th {\n",
       "        vertical-align: top;\n",
       "    }\n",
       "\n",
       "    .dataframe thead th {\n",
       "        text-align: right;\n",
       "    }\n",
       "</style>\n",
       "<table border=\"1\" class=\"dataframe\">\n",
       "  <thead>\n",
       "    <tr style=\"text-align: right;\">\n",
       "      <th></th>\n",
       "      <th>AveragePrice</th>\n",
       "      <th>Total Volume</th>\n",
       "      <th>4046</th>\n",
       "      <th>4225</th>\n",
       "      <th>4770</th>\n",
       "      <th>Total Bags</th>\n",
       "      <th>Small Bags</th>\n",
       "      <th>Large Bags</th>\n",
       "      <th>XLarge Bags</th>\n",
       "      <th>type</th>\n",
       "      <th>region</th>\n",
       "      <th>Time</th>\n",
       "    </tr>\n",
       "  </thead>\n",
       "  <tbody>\n",
       "    <tr>\n",
       "      <th>0</th>\n",
       "      <td>1.33</td>\n",
       "      <td>64236.62</td>\n",
       "      <td>1036.74</td>\n",
       "      <td>54454.85</td>\n",
       "      <td>48.16</td>\n",
       "      <td>8696.87</td>\n",
       "      <td>8603.62</td>\n",
       "      <td>93.25</td>\n",
       "      <td>0.0</td>\n",
       "      <td>0.0</td>\n",
       "      <td>0.0</td>\n",
       "      <td>752</td>\n",
       "    </tr>\n",
       "    <tr>\n",
       "      <th>1</th>\n",
       "      <td>1.35</td>\n",
       "      <td>54876.98</td>\n",
       "      <td>674.28</td>\n",
       "      <td>44638.81</td>\n",
       "      <td>58.33</td>\n",
       "      <td>9505.56</td>\n",
       "      <td>9408.07</td>\n",
       "      <td>97.49</td>\n",
       "      <td>0.0</td>\n",
       "      <td>0.0</td>\n",
       "      <td>0.0</td>\n",
       "      <td>745</td>\n",
       "    </tr>\n",
       "    <tr>\n",
       "      <th>2</th>\n",
       "      <td>0.93</td>\n",
       "      <td>118220.22</td>\n",
       "      <td>794.70</td>\n",
       "      <td>109149.67</td>\n",
       "      <td>130.50</td>\n",
       "      <td>8145.35</td>\n",
       "      <td>8042.21</td>\n",
       "      <td>103.14</td>\n",
       "      <td>0.0</td>\n",
       "      <td>0.0</td>\n",
       "      <td>0.0</td>\n",
       "      <td>738</td>\n",
       "    </tr>\n",
       "    <tr>\n",
       "      <th>3</th>\n",
       "      <td>1.08</td>\n",
       "      <td>78992.15</td>\n",
       "      <td>1132.00</td>\n",
       "      <td>71976.41</td>\n",
       "      <td>72.58</td>\n",
       "      <td>5811.16</td>\n",
       "      <td>5677.40</td>\n",
       "      <td>133.76</td>\n",
       "      <td>0.0</td>\n",
       "      <td>0.0</td>\n",
       "      <td>0.0</td>\n",
       "      <td>731</td>\n",
       "    </tr>\n",
       "    <tr>\n",
       "      <th>4</th>\n",
       "      <td>1.28</td>\n",
       "      <td>51039.60</td>\n",
       "      <td>941.48</td>\n",
       "      <td>43838.39</td>\n",
       "      <td>75.78</td>\n",
       "      <td>6183.95</td>\n",
       "      <td>5986.26</td>\n",
       "      <td>197.69</td>\n",
       "      <td>0.0</td>\n",
       "      <td>0.0</td>\n",
       "      <td>0.0</td>\n",
       "      <td>724</td>\n",
       "    </tr>\n",
       "    <tr>\n",
       "      <th>...</th>\n",
       "      <td>...</td>\n",
       "      <td>...</td>\n",
       "      <td>...</td>\n",
       "      <td>...</td>\n",
       "      <td>...</td>\n",
       "      <td>...</td>\n",
       "      <td>...</td>\n",
       "      <td>...</td>\n",
       "      <td>...</td>\n",
       "      <td>...</td>\n",
       "      <td>...</td>\n",
       "      <td>...</td>\n",
       "    </tr>\n",
       "    <tr>\n",
       "      <th>18244</th>\n",
       "      <td>1.63</td>\n",
       "      <td>17074.83</td>\n",
       "      <td>2046.96</td>\n",
       "      <td>1529.20</td>\n",
       "      <td>0.00</td>\n",
       "      <td>13498.67</td>\n",
       "      <td>13066.82</td>\n",
       "      <td>431.85</td>\n",
       "      <td>0.0</td>\n",
       "      <td>1.0</td>\n",
       "      <td>53.0</td>\n",
       "      <td>1524</td>\n",
       "    </tr>\n",
       "    <tr>\n",
       "      <th>18245</th>\n",
       "      <td>1.71</td>\n",
       "      <td>13888.04</td>\n",
       "      <td>1191.70</td>\n",
       "      <td>3431.50</td>\n",
       "      <td>0.00</td>\n",
       "      <td>9264.84</td>\n",
       "      <td>8940.04</td>\n",
       "      <td>324.80</td>\n",
       "      <td>0.0</td>\n",
       "      <td>1.0</td>\n",
       "      <td>53.0</td>\n",
       "      <td>1518</td>\n",
       "    </tr>\n",
       "    <tr>\n",
       "      <th>18246</th>\n",
       "      <td>1.87</td>\n",
       "      <td>13766.76</td>\n",
       "      <td>1191.92</td>\n",
       "      <td>2452.79</td>\n",
       "      <td>727.94</td>\n",
       "      <td>9394.11</td>\n",
       "      <td>9351.80</td>\n",
       "      <td>42.31</td>\n",
       "      <td>0.0</td>\n",
       "      <td>1.0</td>\n",
       "      <td>53.0</td>\n",
       "      <td>1511</td>\n",
       "    </tr>\n",
       "    <tr>\n",
       "      <th>18247</th>\n",
       "      <td>1.93</td>\n",
       "      <td>16205.22</td>\n",
       "      <td>1527.63</td>\n",
       "      <td>2981.04</td>\n",
       "      <td>727.01</td>\n",
       "      <td>10969.54</td>\n",
       "      <td>10919.54</td>\n",
       "      <td>50.00</td>\n",
       "      <td>0.0</td>\n",
       "      <td>1.0</td>\n",
       "      <td>53.0</td>\n",
       "      <td>1504</td>\n",
       "    </tr>\n",
       "    <tr>\n",
       "      <th>18248</th>\n",
       "      <td>1.62</td>\n",
       "      <td>17489.58</td>\n",
       "      <td>2894.77</td>\n",
       "      <td>2356.13</td>\n",
       "      <td>224.53</td>\n",
       "      <td>12014.15</td>\n",
       "      <td>11988.14</td>\n",
       "      <td>26.01</td>\n",
       "      <td>0.0</td>\n",
       "      <td>1.0</td>\n",
       "      <td>53.0</td>\n",
       "      <td>1497</td>\n",
       "    </tr>\n",
       "  </tbody>\n",
       "</table>\n",
       "<p>17852 rows × 12 columns</p>\n",
       "</div>"
      ],
      "text/plain": [
       "       AveragePrice  Total Volume     4046       4225    4770  Total Bags  \\\n",
       "0              1.33      64236.62  1036.74   54454.85   48.16     8696.87   \n",
       "1              1.35      54876.98   674.28   44638.81   58.33     9505.56   \n",
       "2              0.93     118220.22   794.70  109149.67  130.50     8145.35   \n",
       "3              1.08      78992.15  1132.00   71976.41   72.58     5811.16   \n",
       "4              1.28      51039.60   941.48   43838.39   75.78     6183.95   \n",
       "...             ...           ...      ...        ...     ...         ...   \n",
       "18244          1.63      17074.83  2046.96    1529.20    0.00    13498.67   \n",
       "18245          1.71      13888.04  1191.70    3431.50    0.00     9264.84   \n",
       "18246          1.87      13766.76  1191.92    2452.79  727.94     9394.11   \n",
       "18247          1.93      16205.22  1527.63    2981.04  727.01    10969.54   \n",
       "18248          1.62      17489.58  2894.77    2356.13  224.53    12014.15   \n",
       "\n",
       "       Small Bags  Large Bags  XLarge Bags  type  region  Time  \n",
       "0         8603.62       93.25          0.0   0.0     0.0   752  \n",
       "1         9408.07       97.49          0.0   0.0     0.0   745  \n",
       "2         8042.21      103.14          0.0   0.0     0.0   738  \n",
       "3         5677.40      133.76          0.0   0.0     0.0   731  \n",
       "4         5986.26      197.69          0.0   0.0     0.0   724  \n",
       "...           ...         ...          ...   ...     ...   ...  \n",
       "18244    13066.82      431.85          0.0   1.0    53.0  1524  \n",
       "18245     8940.04      324.80          0.0   1.0    53.0  1518  \n",
       "18246     9351.80       42.31          0.0   1.0    53.0  1511  \n",
       "18247    10919.54       50.00          0.0   1.0    53.0  1504  \n",
       "18248    11988.14       26.01          0.0   1.0    53.0  1497  \n",
       "\n",
       "[17852 rows x 12 columns]"
      ]
     },
     "execution_count": 381,
     "metadata": {},
     "output_type": "execute_result"
    }
   ],
   "source": [
    "df"
   ]
  },
  {
   "cell_type": "markdown",
   "id": "8dca047d",
   "metadata": {},
   "source": [
    "#### Removing Skewness"
   ]
  },
  {
   "cell_type": "code",
   "execution_count": 382,
   "id": "9d3a93d7",
   "metadata": {
    "scrolled": false
   },
   "outputs": [
    {
     "data": {
      "text/plain": [
       "AveragePrice    0.489112\n",
       "Total Volume    3.687319\n",
       "4046            4.773721\n",
       "4225            4.365749\n",
       "4770            5.266465\n",
       "Total Bags      4.111382\n",
       "Small Bags      4.216424\n",
       "Large Bags      5.410824\n",
       "XLarge Bags     6.239287\n",
       "type           -0.035187\n",
       "region          0.009740\n",
       "Time            0.009355\n",
       "dtype: float64"
      ]
     },
     "execution_count": 382,
     "metadata": {},
     "output_type": "execute_result"
    }
   ],
   "source": [
    "df.skew()"
   ]
  },
  {
   "cell_type": "code",
   "execution_count": 383,
   "id": "949975f4",
   "metadata": {},
   "outputs": [],
   "source": [
    "cont=[ 'Total Volume', '4046', '4225','4770', \n",
    "           'Total Bags', 'Small Bags', 'Large Bags', 'XLarge Bags','Time']"
   ]
  },
  {
   "cell_type": "code",
   "execution_count": 384,
   "id": "285510b3",
   "metadata": {},
   "outputs": [
    {
     "data": {
      "image/png": "[encoded data removed]",
      "text/plain": [
       "<Figure size 1080x1800 with 10 Axes>"
      ]
     },
     "metadata": {
      "needs_background": "light"
     },
     "output_type": "display_data"
    }
   ],
   "source": [
    "fig,ax=plt.subplots(5,2,figsize=(15,25))\n",
    "r=0\n",
    "c=0\n",
    "for i,n in enumerate(cont):\n",
    "    if r==4 and c==1:\n",
    "        break\n",
    "    if i%2==0 and i>0:\n",
    "        r+=1\n",
    "        c=0\n",
    "    sns.distplot(df[n],ax=ax[r,c])\n",
    "    c+=1"
   ]
  },
  {
   "cell_type": "code",
   "execution_count": 385,
   "id": "cd46b46e",
   "metadata": {},
   "outputs": [],
   "source": [
    "from sklearn.preprocessing import PowerTransformer\n",
    "pt=PowerTransformer()"
   ]
  },
  {
   "cell_type": "code",
   "execution_count": 386,
   "id": "2645c979",
   "metadata": {},
   "outputs": [],
   "source": [
    "#We make use of power transformer to remove skewness from all columns except from Total volume as it was incapable\n",
    "for i in cont:\n",
    "    if np.abs(df[i].skew())>0.5 and i!='Total Volume':\n",
    "        df[i]=pt.fit_transform(df[i].values.reshape(-1,1))\n",
    "\n",
    "# To remove skewness from total volume column we ise log transformation\n",
    "df['Total Volume']=np.log(df['Total Volume'])"
   ]
  },
  {
   "cell_type": "code",
   "execution_count": 387,
   "id": "1024ed3a",
   "metadata": {},
   "outputs": [
    {
     "data": {
      "image/png": "[encoded data removed]",
      "text/plain": [
       "<Figure size 1080x1800 with 10 Axes>"
      ]
     },
     "metadata": {
      "needs_background": "light"
     },
     "output_type": "display_data"
    }
   ],
   "source": [
    "fig,ax=plt.subplots(5,2,figsize=(15,25))\n",
    "r=0\n",
    "c=0\n",
    "for i,n in enumerate(cont):\n",
    "    if r==4 and c==1:\n",
    "        break\n",
    "    if i%2==0 and i>0:\n",
    "        r+=1\n",
    "        c=0\n",
    "    sns.distplot(df[n],ax=ax[r,c])\n",
    "    c+=1"
   ]
  },
  {
   "cell_type": "code",
   "execution_count": 388,
   "id": "a96504be",
   "metadata": {
    "scrolled": true
   },
   "outputs": [
    {
     "data": {
      "text/plain": [
       "AveragePrice    0.489112\n",
       "Total Volume   -0.032168\n",
       "4046           -0.037678\n",
       "4225           -0.042688\n",
       "4770            0.025921\n",
       "Total Bags     -0.019751\n",
       "Small Bags     -0.022505\n",
       "Large Bags     -0.107871\n",
       "XLarge Bags     0.842951\n",
       "type           -0.035187\n",
       "region          0.009740\n",
       "Time            0.009355\n",
       "dtype: float64"
      ]
     },
     "execution_count": 388,
     "metadata": {},
     "output_type": "execute_result"
    }
   ],
   "source": [
    "df.skew()"
   ]
  },
  {
   "cell_type": "markdown",
   "id": "f6f8cbb0",
   "metadata": {},
   "source": [
    "##### skewness removed"
   ]
  },
  {
   "cell_type": "code",
   "execution_count": 389,
   "id": "0b8b4a6a",
   "metadata": {},
   "outputs": [],
   "source": [
    "x=df.drop('AveragePrice',axis=1)\n",
    "y=df['AveragePrice']"
   ]
  },
  {
   "cell_type": "code",
   "execution_count": 390,
   "id": "cd6b3f7b",
   "metadata": {},
   "outputs": [],
   "source": [
    "from sklearn.model_selection import train_test_split,cross_val_score"
   ]
  },
  {
   "cell_type": "code",
   "execution_count": 391,
   "id": "614fe465",
   "metadata": {},
   "outputs": [],
   "source": [
    "from sklearn.neighbors import KNeighborsRegressor\n",
    "from sklearn.linear_model import LinearRegression\n",
    "from sklearn.svm import SVR\n",
    "from sklearn.tree import DecisionTreeRegressor\n",
    "from sklearn.ensemble import RandomForestRegressor,AdaBoostRegressor,GradientBoostingRegressor\n",
    "from xgboost import XGBRegressor"
   ]
  },
  {
   "cell_type": "code",
   "execution_count": 392,
   "id": "e80abcd8",
   "metadata": {},
   "outputs": [],
   "source": [
    "from sklearn.metrics import r2_score,mean_absolute_error,mean_squared_error"
   ]
  },
  {
   "cell_type": "code",
   "execution_count": 393,
   "id": "078ba5e7",
   "metadata": {},
   "outputs": [],
   "source": [
    "models=[KNeighborsRegressor(),SVR(),LinearRegression(),DecisionTreeRegressor(),\n",
    "       RandomForestRegressor(),AdaBoostRegressor(),GradientBoostingRegressor(),XGBRegressor()]\n",
    "\n",
    "names=['KNeighborsRegressor','SVR','LinearRegression','DecisionTreeRegressor',\n",
    "       'RandomForestRegressor','AdaBoostRegressor','GradientBoostingRegressor','XGBRegressor']"
   ]
  },
  {
   "cell_type": "code",
   "execution_count": 394,
   "id": "a0bd0f77",
   "metadata": {},
   "outputs": [],
   "source": [
    "xtrain,xtest,ytrain,ytest=train_test_split(x,y,test_size=0.2)"
   ]
  },
  {
   "cell_type": "code",
   "execution_count": 395,
   "id": "c192f418",
   "metadata": {},
   "outputs": [
    {
     "name": "stdout",
     "output_type": "stream",
     "text": [
      "                           Mean Absolute Error  Mean Squared Error  \\\n",
      "Model                                                                \n",
      "KNeighborsRegressor                     0.2394              0.0965   \n",
      "SVR                                     0.2636              0.1157   \n",
      "LinearRegression                        0.2082              0.0712   \n",
      "DecisionTreeRegressor                   0.1182              0.0342   \n",
      "RandomForestRegressor                   0.0843              0.0152   \n",
      "AdaBoostRegressor                       0.2066              0.0646   \n",
      "GradientBoostingRegressor               0.1449              0.0370   \n",
      "XGBRegressor                            0.0859              0.0139   \n",
      "\n",
      "                           Root Mean Squared Error  R2_Score  \n",
      "Model                                                         \n",
      "KNeighborsRegressor                         0.3107   -0.2764  \n",
      "SVR                                         0.3401   -5.9810  \n",
      "LinearRegression                            0.2668    0.1819  \n",
      "DecisionTreeRegressor                       0.1849    0.7878  \n",
      "RandomForestRegressor                       0.1235    0.8872  \n",
      "AdaBoostRegressor                           0.2542    0.2358  \n",
      "GradientBoostingRegressor                   0.1924    0.6435  \n",
      "XGBRegressor                                0.1179    0.9046  \n"
     ]
    }
   ],
   "source": [
    "meanabs=[]\n",
    "meansqd=[]\n",
    "rootmeansqd=[]\n",
    "r2=[]    \n",
    "#Creating models\n",
    "for model in (models):\n",
    "        model.fit(xtrain,ytrain)\n",
    "        p=model.predict(xtest)\n",
    "        \n",
    "        #Calculating scores of the model and appending them to a list\n",
    "        meanabs.append(np.round(mean_absolute_error(p,ytest),4))\n",
    "        meansqd.append(np.round(mean_squared_error(p,ytest),4))\n",
    "        r2.append(np.round(r2_score(p,ytest),4))\n",
    "        rootmeansqd.append(np.round(np.sqrt(mean_squared_error(p,ytest)),4))\n",
    "\n",
    "    \n",
    "    #Creating Dataframe\n",
    "data=pd.DataFrame()\n",
    "data['Model']=names\n",
    "data['Mean Absolute Error']=meanabs\n",
    "data['Mean Squared Error']=meansqd\n",
    "data['Root Mean Squared Error']=rootmeansqd\n",
    "data['R2_Score']=r2\n",
    "data.set_index('Model',inplace = True)\n",
    "print(data)"
   ]
  },
  {
   "cell_type": "code",
   "execution_count": 396,
   "id": "34c50ba8",
   "metadata": {
    "scrolled": false
   },
   "outputs": [
    {
     "data": {
      "text/html": [
       "<div>\n",
       "<style scoped>\n",
       "    .dataframe tbody tr th:only-of-type {\n",
       "        vertical-align: middle;\n",
       "    }\n",
       "\n",
       "    .dataframe tbody tr th {\n",
       "        vertical-align: top;\n",
       "    }\n",
       "\n",
       "    .dataframe thead th {\n",
       "        text-align: right;\n",
       "    }\n",
       "</style>\n",
       "<table border=\"1\" class=\"dataframe\">\n",
       "  <thead>\n",
       "    <tr style=\"text-align: right;\">\n",
       "      <th></th>\n",
       "      <th>Mean Absolute Error</th>\n",
       "      <th>Mean Squared Error</th>\n",
       "      <th>Root Mean Squared Error</th>\n",
       "      <th>R2_Score</th>\n",
       "    </tr>\n",
       "    <tr>\n",
       "      <th>Model</th>\n",
       "      <th></th>\n",
       "      <th></th>\n",
       "      <th></th>\n",
       "      <th></th>\n",
       "    </tr>\n",
       "  </thead>\n",
       "  <tbody>\n",
       "    <tr>\n",
       "      <th>KNeighborsRegressor</th>\n",
       "      <td>0.2394</td>\n",
       "      <td>0.0965</td>\n",
       "      <td>0.3107</td>\n",
       "      <td>-0.2764</td>\n",
       "    </tr>\n",
       "    <tr>\n",
       "      <th>SVR</th>\n",
       "      <td>0.2636</td>\n",
       "      <td>0.1157</td>\n",
       "      <td>0.3401</td>\n",
       "      <td>-5.9810</td>\n",
       "    </tr>\n",
       "    <tr>\n",
       "      <th>LinearRegression</th>\n",
       "      <td>0.2082</td>\n",
       "      <td>0.0712</td>\n",
       "      <td>0.2668</td>\n",
       "      <td>0.1819</td>\n",
       "    </tr>\n",
       "    <tr>\n",
       "      <th>DecisionTreeRegressor</th>\n",
       "      <td>0.1182</td>\n",
       "      <td>0.0342</td>\n",
       "      <td>0.1849</td>\n",
       "      <td>0.7878</td>\n",
       "    </tr>\n",
       "    <tr>\n",
       "      <th>RandomForestRegressor</th>\n",
       "      <td>0.0843</td>\n",
       "      <td>0.0152</td>\n",
       "      <td>0.1235</td>\n",
       "      <td>0.8872</td>\n",
       "    </tr>\n",
       "    <tr>\n",
       "      <th>AdaBoostRegressor</th>\n",
       "      <td>0.2066</td>\n",
       "      <td>0.0646</td>\n",
       "      <td>0.2542</td>\n",
       "      <td>0.2358</td>\n",
       "    </tr>\n",
       "    <tr>\n",
       "      <th>GradientBoostingRegressor</th>\n",
       "      <td>0.1449</td>\n",
       "      <td>0.0370</td>\n",
       "      <td>0.1924</td>\n",
       "      <td>0.6435</td>\n",
       "    </tr>\n",
       "    <tr>\n",
       "      <th>XGBRegressor</th>\n",
       "      <td>0.0859</td>\n",
       "      <td>0.0139</td>\n",
       "      <td>0.1179</td>\n",
       "      <td>0.9046</td>\n",
       "    </tr>\n",
       "  </tbody>\n",
       "</table>\n",
       "</div>"
      ],
      "text/plain": [
       "                           Mean Absolute Error  Mean Squared Error  \\\n",
       "Model                                                                \n",
       "KNeighborsRegressor                     0.2394              0.0965   \n",
       "SVR                                     0.2636              0.1157   \n",
       "LinearRegression                        0.2082              0.0712   \n",
       "DecisionTreeRegressor                   0.1182              0.0342   \n",
       "RandomForestRegressor                   0.0843              0.0152   \n",
       "AdaBoostRegressor                       0.2066              0.0646   \n",
       "GradientBoostingRegressor               0.1449              0.0370   \n",
       "XGBRegressor                            0.0859              0.0139   \n",
       "\n",
       "                           Root Mean Squared Error  R2_Score  \n",
       "Model                                                         \n",
       "KNeighborsRegressor                         0.3107   -0.2764  \n",
       "SVR                                         0.3401   -5.9810  \n",
       "LinearRegression                            0.2668    0.1819  \n",
       "DecisionTreeRegressor                       0.1849    0.7878  \n",
       "RandomForestRegressor                       0.1235    0.8872  \n",
       "AdaBoostRegressor                           0.2542    0.2358  \n",
       "GradientBoostingRegressor                   0.1924    0.6435  \n",
       "XGBRegressor                                0.1179    0.9046  "
      ]
     },
     "execution_count": 396,
     "metadata": {},
     "output_type": "execute_result"
    }
   ],
   "source": [
    "data"
   ]
  },
  {
   "cell_type": "markdown",
   "id": "045b04d3",
   "metadata": {},
   "source": [
    "## XGBREGGRESSOR"
   ]
  },
  {
   "cell_type": "code",
   "execution_count": 403,
   "id": "28989798",
   "metadata": {},
   "outputs": [
    {
     "data": {
      "text/plain": [
       "XGBRegressor(base_score=0.5, booster='gbtree', callbacks=None,\n",
       "             colsample_bylevel=1, colsample_bynode=1, colsample_bytree=1,\n",
       "             early_stopping_rounds=None, enable_categorical=False,\n",
       "             eval_metric=None, gamma=0, gpu_id=-1, grow_policy='depthwise',\n",
       "             importance_type=None, interaction_constraints='',\n",
       "             learning_rate=0.300000012, max_bin=256, max_cat_to_onehot=4,\n",
       "             max_delta_step=0, max_depth=6, max_leaves=0, min_child_weight=1,\n",
       "             missing=nan, monotone_constraints='()', n_estimators=100, n_jobs=0,\n",
       "             num_parallel_tree=1, predictor='auto', random_state=0, reg_alpha=0,\n",
       "             reg_lambda=1, ...)"
      ]
     },
     "execution_count": 403,
     "metadata": {},
     "output_type": "execute_result"
    }
   ],
   "source": [
    "xgb=XGBRegressor()\n",
    "xgb.fit(xtrain,ytrain)"
   ]
  },
  {
   "cell_type": "code",
   "execution_count": 405,
   "id": "5693f529",
   "metadata": {},
   "outputs": [],
   "source": [
    "Ypred=xgb.predict(xtest)"
   ]
  },
  {
   "cell_type": "code",
   "execution_count": 408,
   "id": "c40d80d6",
   "metadata": {},
   "outputs": [],
   "source": [
    "ytrain_pred=xgb.predict(xtrain)"
   ]
  },
  {
   "cell_type": "code",
   "execution_count": 409,
   "id": "69b32ae2",
   "metadata": {},
   "outputs": [
    {
     "name": "stdout",
     "output_type": "stream",
     "text": [
      "Test data\n",
      "RMSE : 0.1179\n",
      "R2 score:  0.9142672031215646\n",
      "Train data\n",
      "RMSE : 0.0723\n",
      "R2 score:  0.9664449015551033\n"
     ]
    }
   ],
   "source": [
    "print('Test data')\n",
    "print('RMSE :', np.round(np.sqrt(mean_squared_error(ytest,Ypred)),4))\n",
    "print('R2 score: ', r2_score(ytest,Ypred))\n",
    "print('Train data')\n",
    "print('RMSE :', np.round(np.sqrt(mean_squared_error(ytrain,ytrain_pred)),4))\n",
    "print('R2 score: ', r2_score(ytrain,ytrain_pred))"
   ]
  },
  {
   "cell_type": "code",
   "execution_count": 410,
   "id": "9112b304",
   "metadata": {
    "scrolled": true
   },
   "outputs": [
    {
     "data": {
      "text/plain": [
       "Text(0.5, 1.0, 'XGBRegressor')"
      ]
     },
     "execution_count": 410,
     "metadata": {},
     "output_type": "execute_result"
    },
    {
     "data": {
      "image/png": "[encoded data removed]",
      "text/plain": [
       "<Figure size 432x288 with 1 Axes>"
      ]
     },
     "metadata": {
      "needs_background": "light"
     },
     "output_type": "display_data"
    }
   ],
   "source": [
    "plt.scatter(x=ytest,y=Ypred,color='r')\n",
    "plt.plot(ytest,ytest,color='b')\n",
    "plt.xlabel('Actual Average Price')\n",
    "plt.ylabel('Predicted Average Price')\n",
    "plt.title('XGBRegressor')"
   ]
  },
  {
   "cell_type": "markdown",
   "id": "5cfcd96c",
   "metadata": {},
   "source": [
    " "
   ]
  },
  {
   "cell_type": "markdown",
   "id": "2057c72f",
   "metadata": {},
   "source": [
    " "
   ]
  },
  {
   "cell_type": "markdown",
   "id": "dab64bc9",
   "metadata": {},
   "source": [
    "### Train Data"
   ]
  },
  {
   "cell_type": "code",
   "execution_count": 398,
   "id": "e62bc9b8",
   "metadata": {},
   "outputs": [
    {
     "name": "stdout",
     "output_type": "stream",
     "text": [
      "                           Mean Absolute Error  Mean Squared Error  \\\n",
      "Model                                                                \n",
      "KNeighborsRegressor                     0.1922              0.0624   \n",
      "SVR                                     0.2648              0.1146   \n",
      "LinearRegression                        0.2080              0.0704   \n",
      "DecisionTreeRegressor                   0.0000              0.0000   \n",
      "RandomForestRegressor                   0.0317              0.0021   \n",
      "AdaBoostRegressor                       0.2037              0.0627   \n",
      "GradientBoostingRegressor               0.1406              0.0346   \n",
      "XGBRegressor                            0.0539              0.0052   \n",
      "\n",
      "                           Root Mean Squared Error  R2_Score  \n",
      "Model                                                         \n",
      "KNeighborsRegressor                         0.2498    0.2208  \n",
      "SVR                                         0.3385   -6.2025  \n",
      "LinearRegression                            0.2653    0.1760  \n",
      "DecisionTreeRegressor                       0.0000    1.0000  \n",
      "RandomForestRegressor                       0.0459    0.9851  \n",
      "AdaBoostRegressor                           0.2504    0.2158  \n",
      "GradientBoostingRegressor                   0.1860    0.6536  \n",
      "XGBRegressor                                0.0723    0.9639  \n"
     ]
    }
   ],
   "source": [
    "meanabs=[]\n",
    "meansqd=[]\n",
    "rootmeansqd=[]\n",
    "r2=[]    \n",
    "#Creating models\n",
    "for model in (models):\n",
    "        model.fit(xtrain,ytrain)\n",
    "        train_p=model.predict(xtrain)\n",
    "        \n",
    "        #Calculating scores of the model and appending them to a list\n",
    "        meanabs.append(np.round(mean_absolute_error(train_p,ytrain),4))\n",
    "        meansqd.append(np.round(mean_squared_error(train_p,ytrain),4))\n",
    "        r2.append(np.round(r2_score(train_p,ytrain),4))\n",
    "        rootmeansqd.append(np.round(np.sqrt(mean_squared_error(train_p,ytrain)),4))\n",
    "\n",
    "    \n",
    "    #Creating Dataframe\n",
    "train_data=pd.DataFrame()\n",
    "train_data['Model']=names\n",
    "train_data['Mean Absolute Error']=meanabs\n",
    "train_data['Mean Squared Error']=meansqd\n",
    "train_data['Root Mean Squared Error']=rootmeansqd\n",
    "train_data['R2_Score']=r2\n",
    "train_data.set_index('Model',inplace = True)\n",
    "print(train_data)"
   ]
  },
  {
   "cell_type": "code",
   "execution_count": 399,
   "id": "ca916a8b",
   "metadata": {
    "scrolled": true
   },
   "outputs": [
    {
     "data": {
      "text/html": [
       "<div>\n",
       "<style scoped>\n",
       "    .dataframe tbody tr th:only-of-type {\n",
       "        vertical-align: middle;\n",
       "    }\n",
       "\n",
       "    .dataframe tbody tr th {\n",
       "        vertical-align: top;\n",
       "    }\n",
       "\n",
       "    .dataframe thead th {\n",
       "        text-align: right;\n",
       "    }\n",
       "</style>\n",
       "<table border=\"1\" class=\"dataframe\">\n",
       "  <thead>\n",
       "    <tr style=\"text-align: right;\">\n",
       "      <th></th>\n",
       "      <th>Mean Absolute Error</th>\n",
       "      <th>Mean Squared Error</th>\n",
       "      <th>Root Mean Squared Error</th>\n",
       "      <th>R2_Score</th>\n",
       "    </tr>\n",
       "    <tr>\n",
       "      <th>Model</th>\n",
       "      <th></th>\n",
       "      <th></th>\n",
       "      <th></th>\n",
       "      <th></th>\n",
       "    </tr>\n",
       "  </thead>\n",
       "  <tbody>\n",
       "    <tr>\n",
       "      <th>KNeighborsRegressor</th>\n",
       "      <td>0.1922</td>\n",
       "      <td>0.0624</td>\n",
       "      <td>0.2498</td>\n",
       "      <td>0.2208</td>\n",
       "    </tr>\n",
       "    <tr>\n",
       "      <th>SVR</th>\n",
       "      <td>0.2648</td>\n",
       "      <td>0.1146</td>\n",
       "      <td>0.3385</td>\n",
       "      <td>-6.2025</td>\n",
       "    </tr>\n",
       "    <tr>\n",
       "      <th>LinearRegression</th>\n",
       "      <td>0.2080</td>\n",
       "      <td>0.0704</td>\n",
       "      <td>0.2653</td>\n",
       "      <td>0.1760</td>\n",
       "    </tr>\n",
       "    <tr>\n",
       "      <th>DecisionTreeRegressor</th>\n",
       "      <td>0.0000</td>\n",
       "      <td>0.0000</td>\n",
       "      <td>0.0000</td>\n",
       "      <td>1.0000</td>\n",
       "    </tr>\n",
       "    <tr>\n",
       "      <th>RandomForestRegressor</th>\n",
       "      <td>0.0317</td>\n",
       "      <td>0.0021</td>\n",
       "      <td>0.0459</td>\n",
       "      <td>0.9851</td>\n",
       "    </tr>\n",
       "    <tr>\n",
       "      <th>AdaBoostRegressor</th>\n",
       "      <td>0.2037</td>\n",
       "      <td>0.0627</td>\n",
       "      <td>0.2504</td>\n",
       "      <td>0.2158</td>\n",
       "    </tr>\n",
       "    <tr>\n",
       "      <th>GradientBoostingRegressor</th>\n",
       "      <td>0.1406</td>\n",
       "      <td>0.0346</td>\n",
       "      <td>0.1860</td>\n",
       "      <td>0.6536</td>\n",
       "    </tr>\n",
       "    <tr>\n",
       "      <th>XGBRegressor</th>\n",
       "      <td>0.0539</td>\n",
       "      <td>0.0052</td>\n",
       "      <td>0.0723</td>\n",
       "      <td>0.9639</td>\n",
       "    </tr>\n",
       "  </tbody>\n",
       "</table>\n",
       "</div>"
      ],
      "text/plain": [
       "                           Mean Absolute Error  Mean Squared Error  \\\n",
       "Model                                                                \n",
       "KNeighborsRegressor                     0.1922              0.0624   \n",
       "SVR                                     0.2648              0.1146   \n",
       "LinearRegression                        0.2080              0.0704   \n",
       "DecisionTreeRegressor                   0.0000              0.0000   \n",
       "RandomForestRegressor                   0.0317              0.0021   \n",
       "AdaBoostRegressor                       0.2037              0.0627   \n",
       "GradientBoostingRegressor               0.1406              0.0346   \n",
       "XGBRegressor                            0.0539              0.0052   \n",
       "\n",
       "                           Root Mean Squared Error  R2_Score  \n",
       "Model                                                         \n",
       "KNeighborsRegressor                         0.2498    0.2208  \n",
       "SVR                                         0.3385   -6.2025  \n",
       "LinearRegression                            0.2653    0.1760  \n",
       "DecisionTreeRegressor                       0.0000    1.0000  \n",
       "RandomForestRegressor                       0.0459    0.9851  \n",
       "AdaBoostRegressor                           0.2504    0.2158  \n",
       "GradientBoostingRegressor                   0.1860    0.6536  \n",
       "XGBRegressor                                0.0723    0.9639  "
      ]
     },
     "execution_count": 399,
     "metadata": {},
     "output_type": "execute_result"
    }
   ],
   "source": [
    "train_data"
   ]
  },
  {
   "cell_type": "code",
   "execution_count": 400,
   "id": "4dffbe26",
   "metadata": {},
   "outputs": [
    {
     "data": {
      "text/plain": [
       "Text(0.5, 1.0, ' training data on XGBRegressor')"
      ]
     },
     "execution_count": 400,
     "metadata": {},
     "output_type": "execute_result"
    },
    {
     "data": {
      "image/png": "[encoded data removed]",
      "text/plain": [
       "<Figure size 432x288 with 1 Axes>"
      ]
     },
     "metadata": {
      "needs_background": "light"
     },
     "output_type": "display_data"
    }
   ],
   "source": [
    "plt.scatter(x=ytrain,y=train_p,color='r')\n",
    "plt.plot(ytest,ytest,color='b')\n",
    "plt.xlabel('Actual Average Price')\n",
    "plt.ylabel('Predicted Average Price')\n",
    "plt.title(' training data on XGBRegressor')"
   ]
  },
  {
   "cell_type": "code",
   "execution_count": 401,
   "id": "0921a708",
   "metadata": {},
   "outputs": [
    {
     "name": "stdout",
     "output_type": "stream",
     "text": [
      "Training Score: 0.9664449015551033\n",
      "Testing Score: 0.9142672031215646\n"
     ]
    }
   ],
   "source": [
    "from xgboost import XGBRegressor\n",
    "from sklearn.metrics import mean_absolute_error,mean_squared_error,r2_score\n",
    "model = XGBRegressor()\n",
    "model.fit(xtrain, ytrain)\n",
    "Y_pred = model.predict(xtest)\n",
    "score = model.score(xtrain, ytrain)\n",
    "print('Training Score:', score)\n",
    "score = model.score(xtest, ytest)\n",
    "print('Testing Score:', score)\n",
    "output = pd.DataFrame({'Predicted':Y_pred})"
   ]
  },
  {
   "cell_type": "markdown",
   "id": "ee821be6",
   "metadata": {},
   "source": [
    "## so best optimum model is XGBRegressor which have low bias and low verience"
   ]
  },
  {
   "cell_type": "code",
   "execution_count": null,
   "id": "fde8732d",
   "metadata": {},
   "outputs": [],
   "source": []
  }
 ],
 "metadata": {
  "kernelspec": {
   "display_name": "Python 3 (ipykernel)",
   "language": "python",
   "name": "python3"
  },
  "language_info": {
   "codemirror_mode": {
    "name": "ipython",
    "version": 3
   },
   "file_extension": ".py",
   "mimetype": "text/x-python",
   "name": "python",
   "nbconvert_exporter": "python",
   "pygments_lexer": "ipython3",
   "version": "3.9.12"
  }
 },
 "nbformat": 4,
 "nbformat_minor": 5
}
